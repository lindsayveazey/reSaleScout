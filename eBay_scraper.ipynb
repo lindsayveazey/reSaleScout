{
 "cells": [
  {
   "cell_type": "markdown",
   "metadata": {},
   "source": [
    "*A document in progress showing my scraper development.*"
   ]
  },
  {
   "cell_type": "markdown",
   "metadata": {},
   "source": [
    "### Import modules\n",
    "*(Always do this step before running any other code chunks)*"
   ]
  },
  {
   "cell_type": "code",
   "execution_count": 6,
   "metadata": {},
   "outputs": [],
   "source": [
    "import urllib.request\n",
    "from urllib.request import urlopen\n",
    "from bs4 import BeautifulSoup\n",
    "import certifi\n",
    "import urllib3\n",
    "import pandas as pd\n",
    "import numpy as np\n",
    "import requests\n",
    "from requests.adapters import HTTPAdapter\n",
    "from requests.packages.urllib3.util.retry import Retry"
   ]
  },
  {
   "cell_type": "markdown",
   "metadata": {},
   "source": [
    "## New listings (brands = lululemon, Reformation, Sezane, Doen, Realisation Par, Iro, Ulla Johnson, Zimmermann, The Row, Rouje)\n",
    "\n",
    "Here, I specify the URL for **sold/completed** listings of 10 brands of women's clothing in **New** condition. (It's all in the link). Reminder to check the [robot.txt](https://www.ebay.com/robots.txt) for the site you want to scrape- don't get blocked as a bot!\n",
    "\n",
    "I'm also identifying the page for BeautifulSoup."
   ]
  },
  {
   "cell_type": "markdown",
   "metadata": {},
   "source": [
    "#### Change the object below to correspond to the brand page I want to scrape..."
   ]
  },
  {
   "cell_type": "code",
   "execution_count": 99,
   "metadata": {},
   "outputs": [],
   "source": [
    "#brand = 'lululemon'\n",
    "#brand = 'Reformation'\n",
    "#brand = 'Sezane'\n",
    "#brand = 'Doen'\n",
    "#brand = 'realisation+par'\n",
    "#brand = 'iro'\n",
    "#brand = 'ulla+johnson'\n",
    "#brand = 'zimmermann'\n",
    "#brand = 'the+row'\n",
    "brand = 'rouje'"
   ]
  },
  {
   "cell_type": "code",
   "execution_count": 100,
   "metadata": {},
   "outputs": [
    {
     "name": "stdout",
     "output_type": "stream",
     "text": [
      "https://www.ebay.com/sch/i.html?_nkw=rouje&LH_ItemCondition=1500|1000&LH_Complete=1&rt=nc&LH_Sold=1\n"
     ]
    }
   ],
   "source": [
    "urlpage = 'https://www.ebay.com/sch/i.html?_nkw=' + str(brand) + '&LH_ItemCondition=1500|1000&LH_Complete=1&rt=nc&LH_Sold=1'\n",
    "print(urlpage)"
   ]
  },
  {
   "cell_type": "code",
   "execution_count": 101,
   "metadata": {},
   "outputs": [],
   "source": [
    "http = urllib3.PoolManager(cert_reqs='CERT_REQUIRED', ca_certs=certifi.where())\n",
    "r = http.request('GET', urlpage)\n",
    "page = urllib.request.urlopen(urlpage).read()\n",
    "soup = BeautifulSoup(page, 'html.parser')\n",
    "# print(page)"
   ]
  },
  {
   "cell_type": "code",
   "execution_count": 102,
   "metadata": {},
   "outputs": [
    {
     "name": "stdout",
     "output_type": "stream",
     "text": [
      "48\n"
     ]
    }
   ],
   "source": [
    "# For testing\n",
    "item_containers = soup.find_all('div', {'class': 's-item__info clearfix'})\n",
    "print(len(item_containers)) # should be about 4 dozen\n",
    "# item_containers[0]"
   ]
  },
  {
   "cell_type": "markdown",
   "metadata": {},
   "source": [
    "### Running the scraper\n",
    "On this site, there are 48 listings per page. We are starting to scrape at page 1; I want to scrape 500 pages. I'm retrieving 1) title/item details in a messy HTML chunk, to be cleaned later; 2) price."
   ]
  },
  {
   "cell_type": "code",
   "execution_count": 103,
   "metadata": {},
   "outputs": [
    {
     "name": "stdout",
     "output_type": "stream",
     "text": [
      "24000\n",
      "24000\n"
     ]
    }
   ],
   "source": [
    "page_num = 1\n",
    "\n",
    "# Create lists to store the scraped information\n",
    "summary = []\n",
    "price = []\n",
    "\n",
    "while page_num<=500:\n",
    "    html = requests.get(urlpage.format(page_num)).text\n",
    "    soup = BeautifulSoup(html, 'html.parser')\n",
    "\n",
    "    for item in soup.select('div.s-item__info.clearfix'):\n",
    "        if item.select_one(\"h3.s-item__title\"):\n",
    "            summary.append(item.select_one(\"h3.s-item__title\").text)\n",
    "        if item.select_one(\"span.s-item__price\"):\n",
    "            price.append(item.select_one(\"span.s-item__price\").text)\n",
    "\n",
    "    page_num=page_num+1\n",
    "\n",
    "# Check the results\n",
    "print(len(summary))\n",
    "print(len(price))"
   ]
  },
  {
   "cell_type": "markdown",
   "metadata": {},
   "source": [
    "### Storing the data in a pandas dataframe (change this for each brand run-through)"
   ]
  },
  {
   "cell_type": "code",
   "execution_count": 106,
   "metadata": {},
   "outputs": [
    {
     "name": "stdout",
     "output_type": "stream",
     "text": [
      "<class 'pandas.core.frame.DataFrame'>\n",
      "RangeIndex: 24000 entries, 0 to 23999\n",
      "Data columns (total 2 columns):\n",
      "summary    24000 non-null object\n",
      "price      24000 non-null object\n",
      "dtypes: object(2)\n",
      "memory usage: 375.1+ KB\n",
      "None\n"
     ]
    },
    {
     "data": {
      "text/html": [
       "<div>\n",
       "<style scoped>\n",
       "    .dataframe tbody tr th:only-of-type {\n",
       "        vertical-align: middle;\n",
       "    }\n",
       "\n",
       "    .dataframe tbody tr th {\n",
       "        vertical-align: top;\n",
       "    }\n",
       "\n",
       "    .dataframe thead th {\n",
       "        text-align: right;\n",
       "    }\n",
       "</style>\n",
       "<table border=\"1\" class=\"dataframe\">\n",
       "  <thead>\n",
       "    <tr style=\"text-align: right;\">\n",
       "      <th></th>\n",
       "      <th>summary</th>\n",
       "      <th>price</th>\n",
       "    </tr>\n",
       "  </thead>\n",
       "  <tbody>\n",
       "    <tr>\n",
       "      <td>0</td>\n",
       "      <td>ROUJE Monique Dress Blue Watercolor Silk Size ...</td>\n",
       "      <td>$221.00</td>\n",
       "    </tr>\n",
       "    <tr>\n",
       "      <td>1</td>\n",
       "      <td>ROUJE PALOMA Dress Navy Flower Polka Size 38 O...</td>\n",
       "      <td>$198.00</td>\n",
       "    </tr>\n",
       "    <tr>\n",
       "      <td>2</td>\n",
       "      <td>ROUJE Jose Blouse Red Jonquil Size 40 Orig. $1...</td>\n",
       "      <td>$128.00</td>\n",
       "    </tr>\n",
       "    <tr>\n",
       "      <td>3</td>\n",
       "      <td>ROUJE Gabin Dress Light Blue Floral Print Size...</td>\n",
       "      <td>$190.00</td>\n",
       "    </tr>\n",
       "    <tr>\n",
       "      <td>4</td>\n",
       "      <td>Rouje NWT Sold Out Angèle skirt Size 34/XS&amp;S</td>\n",
       "      <td>$160.00</td>\n",
       "    </tr>\n",
       "  </tbody>\n",
       "</table>\n",
       "</div>"
      ],
      "text/plain": [
       "                                             summary    price\n",
       "0  ROUJE Monique Dress Blue Watercolor Silk Size ...  $221.00\n",
       "1  ROUJE PALOMA Dress Navy Flower Polka Size 38 O...  $198.00\n",
       "2  ROUJE Jose Blouse Red Jonquil Size 40 Orig. $1...  $128.00\n",
       "3  ROUJE Gabin Dress Light Blue Floral Print Size...  $190.00\n",
       "4       Rouje NWT Sold Out Angèle skirt Size 34/XS&S  $160.00"
      ]
     },
     "execution_count": 106,
     "metadata": {},
     "output_type": "execute_result"
    }
   ],
   "source": [
    "new_eBay_rouje_df = pd.DataFrame({'summary': summary, 'price': price})\n",
    "print(new_eBay_rouje_df.info())\n",
    "new_eBay_rouje_df.head()\n",
    "\n",
    "# Ew that looks like a lot of memory usage but I'll, uh, deal with it later"
   ]
  },
  {
   "cell_type": "markdown",
   "metadata": {},
   "source": [
    "## Pre-owned listings"
   ]
  },
  {
   "cell_type": "markdown",
   "metadata": {},
   "source": [
    "Here's the workflow again, with less commentary. In this instance, I am applying the scraper to retrieve **sold/completed** listings of 10 brands of women's clothing in **Pre-owned** condition."
   ]
  },
  {
   "cell_type": "markdown",
   "metadata": {},
   "source": [
    "#### As above, change the object below to correspond to the brand I'm scraping."
   ]
  },
  {
   "cell_type": "code",
   "execution_count": 107,
   "metadata": {},
   "outputs": [],
   "source": [
    "#brand = 'lululemon'\n",
    "#brand = 'Reformation'\n",
    "#brand = 'Sezane'\n",
    "#brand = 'Doen'\n",
    "#brand = 'realisation+par'\n",
    "#brand = 'iro'\n",
    "#brand = 'ulla+johnson'\n",
    "#brand = 'zimmermann'\n",
    "#brand = 'the+row'\n",
    "brand = 'rouje'"
   ]
  },
  {
   "cell_type": "code",
   "execution_count": 108,
   "metadata": {},
   "outputs": [
    {
     "name": "stdout",
     "output_type": "stream",
     "text": [
      "https://www.ebay.com/sch/i.html?_nkw=rouje&LH_Complete=1&LH_Sold=1&rt=nc&LH_ItemCondition=3000\n"
     ]
    }
   ],
   "source": [
    "urlpage = 'https://www.ebay.com/sch/i.html?_nkw=' + str(brand) + '&LH_Complete=1&LH_Sold=1&rt=nc&LH_ItemCondition=3000'\n",
    "print(urlpage)"
   ]
  },
  {
   "cell_type": "code",
   "execution_count": 109,
   "metadata": {},
   "outputs": [],
   "source": [
    "http = urllib3.PoolManager(cert_reqs='CERT_REQUIRED', ca_certs=certifi.where())\n",
    "r = http.request('GET', urlpage)\n",
    "page = urllib.request.urlopen(urlpage).read()\n",
    "soup = BeautifulSoup(page, 'html.parser')"
   ]
  },
  {
   "cell_type": "code",
   "execution_count": 111,
   "metadata": {},
   "outputs": [
    {
     "ename": "SSLError",
     "evalue": "HTTPSConnectionPool(host='www.ebay.com', port=443): Max retries exceeded with url: /sch/i.html?_nkw=rouje&LH_Complete=1&LH_Sold=1&rt=nc&LH_ItemCondition=3000 (Caused by SSLError(SSLError(\"bad handshake: SysCallError(-1, 'Unexpected EOF')\",),))",
     "output_type": "error",
     "traceback": [
      "\u001b[0;31m---------------------------------------------------------------------------\u001b[0m",
      "\u001b[0;31mSysCallError\u001b[0m                              Traceback (most recent call last)",
      "\u001b[0;32m~/anaconda3/lib/python3.6/site-packages/urllib3/contrib/pyopenssl.py\u001b[0m in \u001b[0;36mwrap_socket\u001b[0;34m(self, sock, server_side, do_handshake_on_connect, suppress_ragged_eofs, server_hostname)\u001b[0m\n\u001b[1;32m    455\u001b[0m             \u001b[0;32mtry\u001b[0m\u001b[0;34m:\u001b[0m\u001b[0;34m\u001b[0m\u001b[0;34m\u001b[0m\u001b[0m\n\u001b[0;32m--> 456\u001b[0;31m                 \u001b[0mcnx\u001b[0m\u001b[0;34m.\u001b[0m\u001b[0mdo_handshake\u001b[0m\u001b[0;34m(\u001b[0m\u001b[0;34m)\u001b[0m\u001b[0;34m\u001b[0m\u001b[0;34m\u001b[0m\u001b[0m\n\u001b[0m\u001b[1;32m    457\u001b[0m             \u001b[0;32mexcept\u001b[0m \u001b[0mOpenSSL\u001b[0m\u001b[0;34m.\u001b[0m\u001b[0mSSL\u001b[0m\u001b[0;34m.\u001b[0m\u001b[0mWantReadError\u001b[0m\u001b[0;34m:\u001b[0m\u001b[0;34m\u001b[0m\u001b[0;34m\u001b[0m\u001b[0m\n",
      "\u001b[0;32m~/anaconda3/lib/python3.6/site-packages/OpenSSL/SSL.py\u001b[0m in \u001b[0;36mdo_handshake\u001b[0;34m(self)\u001b[0m\n\u001b[1;32m   1914\u001b[0m         \u001b[0mresult\u001b[0m \u001b[0;34m=\u001b[0m \u001b[0m_lib\u001b[0m\u001b[0;34m.\u001b[0m\u001b[0mSSL_do_handshake\u001b[0m\u001b[0;34m(\u001b[0m\u001b[0mself\u001b[0m\u001b[0;34m.\u001b[0m\u001b[0m_ssl\u001b[0m\u001b[0;34m)\u001b[0m\u001b[0;34m\u001b[0m\u001b[0;34m\u001b[0m\u001b[0m\n\u001b[0;32m-> 1915\u001b[0;31m         \u001b[0mself\u001b[0m\u001b[0;34m.\u001b[0m\u001b[0m_raise_ssl_error\u001b[0m\u001b[0;34m(\u001b[0m\u001b[0mself\u001b[0m\u001b[0;34m.\u001b[0m\u001b[0m_ssl\u001b[0m\u001b[0;34m,\u001b[0m \u001b[0mresult\u001b[0m\u001b[0;34m)\u001b[0m\u001b[0;34m\u001b[0m\u001b[0;34m\u001b[0m\u001b[0m\n\u001b[0m\u001b[1;32m   1916\u001b[0m \u001b[0;34m\u001b[0m\u001b[0m\n",
      "\u001b[0;32m~/anaconda3/lib/python3.6/site-packages/OpenSSL/SSL.py\u001b[0m in \u001b[0;36m_raise_ssl_error\u001b[0;34m(self, ssl, result)\u001b[0m\n\u001b[1;32m   1639\u001b[0m                         \u001b[0;32mraise\u001b[0m \u001b[0mSysCallError\u001b[0m\u001b[0;34m(\u001b[0m\u001b[0merrno\u001b[0m\u001b[0;34m,\u001b[0m \u001b[0merrorcode\u001b[0m\u001b[0;34m.\u001b[0m\u001b[0mget\u001b[0m\u001b[0;34m(\u001b[0m\u001b[0merrno\u001b[0m\u001b[0;34m)\u001b[0m\u001b[0;34m)\u001b[0m\u001b[0;34m\u001b[0m\u001b[0;34m\u001b[0m\u001b[0m\n\u001b[0;32m-> 1640\u001b[0;31m                 \u001b[0;32mraise\u001b[0m \u001b[0mSysCallError\u001b[0m\u001b[0;34m(\u001b[0m\u001b[0;34m-\u001b[0m\u001b[0;36m1\u001b[0m\u001b[0;34m,\u001b[0m \u001b[0;34m\"Unexpected EOF\"\u001b[0m\u001b[0;34m)\u001b[0m\u001b[0;34m\u001b[0m\u001b[0;34m\u001b[0m\u001b[0m\n\u001b[0m\u001b[1;32m   1641\u001b[0m             \u001b[0;32melse\u001b[0m\u001b[0;34m:\u001b[0m\u001b[0;34m\u001b[0m\u001b[0;34m\u001b[0m\u001b[0m\n",
      "\u001b[0;31mSysCallError\u001b[0m: (-1, 'Unexpected EOF')",
      "\nDuring handling of the above exception, another exception occurred:\n",
      "\u001b[0;31mSSLError\u001b[0m                                  Traceback (most recent call last)",
      "\u001b[0;32m~/anaconda3/lib/python3.6/site-packages/urllib3/connectionpool.py\u001b[0m in \u001b[0;36murlopen\u001b[0;34m(self, method, url, body, headers, retries, redirect, assert_same_host, timeout, pool_timeout, release_conn, chunked, body_pos, **response_kw)\u001b[0m\n\u001b[1;32m    599\u001b[0m                                                   \u001b[0mbody\u001b[0m\u001b[0;34m=\u001b[0m\u001b[0mbody\u001b[0m\u001b[0;34m,\u001b[0m \u001b[0mheaders\u001b[0m\u001b[0;34m=\u001b[0m\u001b[0mheaders\u001b[0m\u001b[0;34m,\u001b[0m\u001b[0;34m\u001b[0m\u001b[0;34m\u001b[0m\u001b[0m\n\u001b[0;32m--> 600\u001b[0;31m                                                   chunked=chunked)\n\u001b[0m\u001b[1;32m    601\u001b[0m \u001b[0;34m\u001b[0m\u001b[0m\n",
      "\u001b[0;32m~/anaconda3/lib/python3.6/site-packages/urllib3/connectionpool.py\u001b[0m in \u001b[0;36m_make_request\u001b[0;34m(self, conn, method, url, timeout, chunked, **httplib_request_kw)\u001b[0m\n\u001b[1;32m    342\u001b[0m         \u001b[0;32mtry\u001b[0m\u001b[0;34m:\u001b[0m\u001b[0;34m\u001b[0m\u001b[0;34m\u001b[0m\u001b[0m\n\u001b[0;32m--> 343\u001b[0;31m             \u001b[0mself\u001b[0m\u001b[0;34m.\u001b[0m\u001b[0m_validate_conn\u001b[0m\u001b[0;34m(\u001b[0m\u001b[0mconn\u001b[0m\u001b[0;34m)\u001b[0m\u001b[0;34m\u001b[0m\u001b[0;34m\u001b[0m\u001b[0m\n\u001b[0m\u001b[1;32m    344\u001b[0m         \u001b[0;32mexcept\u001b[0m \u001b[0;34m(\u001b[0m\u001b[0mSocketTimeout\u001b[0m\u001b[0;34m,\u001b[0m \u001b[0mBaseSSLError\u001b[0m\u001b[0;34m)\u001b[0m \u001b[0;32mas\u001b[0m \u001b[0me\u001b[0m\u001b[0;34m:\u001b[0m\u001b[0;34m\u001b[0m\u001b[0;34m\u001b[0m\u001b[0m\n",
      "\u001b[0;32m~/anaconda3/lib/python3.6/site-packages/urllib3/connectionpool.py\u001b[0m in \u001b[0;36m_validate_conn\u001b[0;34m(self, conn)\u001b[0m\n\u001b[1;32m    838\u001b[0m         \u001b[0;32mif\u001b[0m \u001b[0;32mnot\u001b[0m \u001b[0mgetattr\u001b[0m\u001b[0;34m(\u001b[0m\u001b[0mconn\u001b[0m\u001b[0;34m,\u001b[0m \u001b[0;34m'sock'\u001b[0m\u001b[0;34m,\u001b[0m \u001b[0;32mNone\u001b[0m\u001b[0;34m)\u001b[0m\u001b[0;34m:\u001b[0m  \u001b[0;31m# AppEngine might not have  `.sock`\u001b[0m\u001b[0;34m\u001b[0m\u001b[0;34m\u001b[0m\u001b[0m\n\u001b[0;32m--> 839\u001b[0;31m             \u001b[0mconn\u001b[0m\u001b[0;34m.\u001b[0m\u001b[0mconnect\u001b[0m\u001b[0;34m(\u001b[0m\u001b[0;34m)\u001b[0m\u001b[0;34m\u001b[0m\u001b[0;34m\u001b[0m\u001b[0m\n\u001b[0m\u001b[1;32m    840\u001b[0m \u001b[0;34m\u001b[0m\u001b[0m\n",
      "\u001b[0;32m~/anaconda3/lib/python3.6/site-packages/urllib3/connection.py\u001b[0m in \u001b[0;36mconnect\u001b[0;34m(self)\u001b[0m\n\u001b[1;32m    343\u001b[0m             \u001b[0mserver_hostname\u001b[0m\u001b[0;34m=\u001b[0m\u001b[0mserver_hostname\u001b[0m\u001b[0;34m,\u001b[0m\u001b[0;34m\u001b[0m\u001b[0;34m\u001b[0m\u001b[0m\n\u001b[0;32m--> 344\u001b[0;31m             ssl_context=context)\n\u001b[0m\u001b[1;32m    345\u001b[0m \u001b[0;34m\u001b[0m\u001b[0m\n",
      "\u001b[0;32m~/anaconda3/lib/python3.6/site-packages/urllib3/util/ssl_.py\u001b[0m in \u001b[0;36mssl_wrap_socket\u001b[0;34m(sock, keyfile, certfile, cert_reqs, ca_certs, server_hostname, ssl_version, ciphers, ssl_context, ca_cert_dir)\u001b[0m\n\u001b[1;32m    346\u001b[0m         \u001b[0;32mif\u001b[0m \u001b[0mHAS_SNI\u001b[0m \u001b[0;32mand\u001b[0m \u001b[0mserver_hostname\u001b[0m \u001b[0;32mis\u001b[0m \u001b[0;32mnot\u001b[0m \u001b[0;32mNone\u001b[0m\u001b[0;34m:\u001b[0m\u001b[0;34m\u001b[0m\u001b[0;34m\u001b[0m\u001b[0m\n\u001b[0;32m--> 347\u001b[0;31m             \u001b[0;32mreturn\u001b[0m \u001b[0mcontext\u001b[0m\u001b[0;34m.\u001b[0m\u001b[0mwrap_socket\u001b[0m\u001b[0;34m(\u001b[0m\u001b[0msock\u001b[0m\u001b[0;34m,\u001b[0m \u001b[0mserver_hostname\u001b[0m\u001b[0;34m=\u001b[0m\u001b[0mserver_hostname\u001b[0m\u001b[0;34m)\u001b[0m\u001b[0;34m\u001b[0m\u001b[0;34m\u001b[0m\u001b[0m\n\u001b[0m\u001b[1;32m    348\u001b[0m \u001b[0;34m\u001b[0m\u001b[0m\n",
      "\u001b[0;32m~/anaconda3/lib/python3.6/site-packages/urllib3/contrib/pyopenssl.py\u001b[0m in \u001b[0;36mwrap_socket\u001b[0;34m(self, sock, server_side, do_handshake_on_connect, suppress_ragged_eofs, server_hostname)\u001b[0m\n\u001b[1;32m    461\u001b[0m             \u001b[0;32mexcept\u001b[0m \u001b[0mOpenSSL\u001b[0m\u001b[0;34m.\u001b[0m\u001b[0mSSL\u001b[0m\u001b[0;34m.\u001b[0m\u001b[0mError\u001b[0m \u001b[0;32mas\u001b[0m \u001b[0me\u001b[0m\u001b[0;34m:\u001b[0m\u001b[0;34m\u001b[0m\u001b[0;34m\u001b[0m\u001b[0m\n\u001b[0;32m--> 462\u001b[0;31m                 \u001b[0;32mraise\u001b[0m \u001b[0mssl\u001b[0m\u001b[0;34m.\u001b[0m\u001b[0mSSLError\u001b[0m\u001b[0;34m(\u001b[0m\u001b[0;34m'bad handshake: %r'\u001b[0m \u001b[0;34m%\u001b[0m \u001b[0me\u001b[0m\u001b[0;34m)\u001b[0m\u001b[0;34m\u001b[0m\u001b[0;34m\u001b[0m\u001b[0m\n\u001b[0m\u001b[1;32m    463\u001b[0m             \u001b[0;32mbreak\u001b[0m\u001b[0;34m\u001b[0m\u001b[0;34m\u001b[0m\u001b[0m\n",
      "\u001b[0;31mSSLError\u001b[0m: (\"bad handshake: SysCallError(-1, 'Unexpected EOF')\",)",
      "\nDuring handling of the above exception, another exception occurred:\n",
      "\u001b[0;31mMaxRetryError\u001b[0m                             Traceback (most recent call last)",
      "\u001b[0;32m~/anaconda3/lib/python3.6/site-packages/requests/adapters.py\u001b[0m in \u001b[0;36msend\u001b[0;34m(self, request, stream, timeout, verify, cert, proxies)\u001b[0m\n\u001b[1;32m    448\u001b[0m                     \u001b[0mretries\u001b[0m\u001b[0;34m=\u001b[0m\u001b[0mself\u001b[0m\u001b[0;34m.\u001b[0m\u001b[0mmax_retries\u001b[0m\u001b[0;34m,\u001b[0m\u001b[0;34m\u001b[0m\u001b[0;34m\u001b[0m\u001b[0m\n\u001b[0;32m--> 449\u001b[0;31m                     \u001b[0mtimeout\u001b[0m\u001b[0;34m=\u001b[0m\u001b[0mtimeout\u001b[0m\u001b[0;34m\u001b[0m\u001b[0;34m\u001b[0m\u001b[0m\n\u001b[0m\u001b[1;32m    450\u001b[0m                 )\n",
      "\u001b[0;32m~/anaconda3/lib/python3.6/site-packages/urllib3/connectionpool.py\u001b[0m in \u001b[0;36murlopen\u001b[0;34m(self, method, url, body, headers, retries, redirect, assert_same_host, timeout, pool_timeout, release_conn, chunked, body_pos, **response_kw)\u001b[0m\n\u001b[1;32m    637\u001b[0m             retries = retries.increment(method, url, error=e, _pool=self,\n\u001b[0;32m--> 638\u001b[0;31m                                         _stacktrace=sys.exc_info()[2])\n\u001b[0m\u001b[1;32m    639\u001b[0m             \u001b[0mretries\u001b[0m\u001b[0;34m.\u001b[0m\u001b[0msleep\u001b[0m\u001b[0;34m(\u001b[0m\u001b[0;34m)\u001b[0m\u001b[0;34m\u001b[0m\u001b[0;34m\u001b[0m\u001b[0m\n",
      "\u001b[0;32m~/anaconda3/lib/python3.6/site-packages/urllib3/util/retry.py\u001b[0m in \u001b[0;36mincrement\u001b[0;34m(self, method, url, response, error, _pool, _stacktrace)\u001b[0m\n\u001b[1;32m    398\u001b[0m         \u001b[0;32mif\u001b[0m \u001b[0mnew_retry\u001b[0m\u001b[0;34m.\u001b[0m\u001b[0mis_exhausted\u001b[0m\u001b[0;34m(\u001b[0m\u001b[0;34m)\u001b[0m\u001b[0;34m:\u001b[0m\u001b[0;34m\u001b[0m\u001b[0;34m\u001b[0m\u001b[0m\n\u001b[0;32m--> 399\u001b[0;31m             \u001b[0;32mraise\u001b[0m \u001b[0mMaxRetryError\u001b[0m\u001b[0;34m(\u001b[0m\u001b[0m_pool\u001b[0m\u001b[0;34m,\u001b[0m \u001b[0murl\u001b[0m\u001b[0;34m,\u001b[0m \u001b[0merror\u001b[0m \u001b[0;32mor\u001b[0m \u001b[0mResponseError\u001b[0m\u001b[0;34m(\u001b[0m\u001b[0mcause\u001b[0m\u001b[0;34m)\u001b[0m\u001b[0;34m)\u001b[0m\u001b[0;34m\u001b[0m\u001b[0;34m\u001b[0m\u001b[0m\n\u001b[0m\u001b[1;32m    400\u001b[0m \u001b[0;34m\u001b[0m\u001b[0m\n",
      "\u001b[0;31mMaxRetryError\u001b[0m: HTTPSConnectionPool(host='www.ebay.com', port=443): Max retries exceeded with url: /sch/i.html?_nkw=rouje&LH_Complete=1&LH_Sold=1&rt=nc&LH_ItemCondition=3000 (Caused by SSLError(SSLError(\"bad handshake: SysCallError(-1, 'Unexpected EOF')\",),))",
      "\nDuring handling of the above exception, another exception occurred:\n",
      "\u001b[0;31mSSLError\u001b[0m                                  Traceback (most recent call last)",
      "\u001b[0;32m<ipython-input-111-451335a6dd9e>\u001b[0m in \u001b[0;36m<module>\u001b[0;34m\u001b[0m\n\u001b[1;32m      6\u001b[0m \u001b[0;34m\u001b[0m\u001b[0m\n\u001b[1;32m      7\u001b[0m \u001b[0;32mwhile\u001b[0m \u001b[0mpage_num\u001b[0m\u001b[0;34m<=\u001b[0m\u001b[0;36m500\u001b[0m\u001b[0;34m:\u001b[0m\u001b[0;34m\u001b[0m\u001b[0;34m\u001b[0m\u001b[0m\n\u001b[0;32m----> 8\u001b[0;31m     \u001b[0mhtml\u001b[0m \u001b[0;34m=\u001b[0m \u001b[0mrequests\u001b[0m\u001b[0;34m.\u001b[0m\u001b[0mget\u001b[0m\u001b[0;34m(\u001b[0m\u001b[0murlpage\u001b[0m\u001b[0;34m.\u001b[0m\u001b[0mformat\u001b[0m\u001b[0;34m(\u001b[0m\u001b[0mpage_num\u001b[0m\u001b[0;34m)\u001b[0m\u001b[0;34m)\u001b[0m\u001b[0;34m.\u001b[0m\u001b[0mtext\u001b[0m\u001b[0;34m\u001b[0m\u001b[0;34m\u001b[0m\u001b[0m\n\u001b[0m\u001b[1;32m      9\u001b[0m     \u001b[0msoup\u001b[0m \u001b[0;34m=\u001b[0m \u001b[0mBeautifulSoup\u001b[0m\u001b[0;34m(\u001b[0m\u001b[0mhtml\u001b[0m\u001b[0;34m,\u001b[0m \u001b[0;34m'html.parser'\u001b[0m\u001b[0;34m)\u001b[0m\u001b[0;34m\u001b[0m\u001b[0;34m\u001b[0m\u001b[0m\n\u001b[1;32m     10\u001b[0m \u001b[0;34m\u001b[0m\u001b[0m\n",
      "\u001b[0;32m~/anaconda3/lib/python3.6/site-packages/requests/api.py\u001b[0m in \u001b[0;36mget\u001b[0;34m(url, params, **kwargs)\u001b[0m\n\u001b[1;32m     73\u001b[0m \u001b[0;34m\u001b[0m\u001b[0m\n\u001b[1;32m     74\u001b[0m     \u001b[0mkwargs\u001b[0m\u001b[0;34m.\u001b[0m\u001b[0msetdefault\u001b[0m\u001b[0;34m(\u001b[0m\u001b[0;34m'allow_redirects'\u001b[0m\u001b[0;34m,\u001b[0m \u001b[0;32mTrue\u001b[0m\u001b[0;34m)\u001b[0m\u001b[0;34m\u001b[0m\u001b[0;34m\u001b[0m\u001b[0m\n\u001b[0;32m---> 75\u001b[0;31m     \u001b[0;32mreturn\u001b[0m \u001b[0mrequest\u001b[0m\u001b[0;34m(\u001b[0m\u001b[0;34m'get'\u001b[0m\u001b[0;34m,\u001b[0m \u001b[0murl\u001b[0m\u001b[0;34m,\u001b[0m \u001b[0mparams\u001b[0m\u001b[0;34m=\u001b[0m\u001b[0mparams\u001b[0m\u001b[0;34m,\u001b[0m \u001b[0;34m**\u001b[0m\u001b[0mkwargs\u001b[0m\u001b[0;34m)\u001b[0m\u001b[0;34m\u001b[0m\u001b[0;34m\u001b[0m\u001b[0m\n\u001b[0m\u001b[1;32m     76\u001b[0m \u001b[0;34m\u001b[0m\u001b[0m\n\u001b[1;32m     77\u001b[0m \u001b[0;34m\u001b[0m\u001b[0m\n",
      "\u001b[0;32m~/anaconda3/lib/python3.6/site-packages/requests/api.py\u001b[0m in \u001b[0;36mrequest\u001b[0;34m(method, url, **kwargs)\u001b[0m\n\u001b[1;32m     58\u001b[0m     \u001b[0;31m# cases, and look like a memory leak in others.\u001b[0m\u001b[0;34m\u001b[0m\u001b[0;34m\u001b[0m\u001b[0;34m\u001b[0m\u001b[0m\n\u001b[1;32m     59\u001b[0m     \u001b[0;32mwith\u001b[0m \u001b[0msessions\u001b[0m\u001b[0;34m.\u001b[0m\u001b[0mSession\u001b[0m\u001b[0;34m(\u001b[0m\u001b[0;34m)\u001b[0m \u001b[0;32mas\u001b[0m \u001b[0msession\u001b[0m\u001b[0;34m:\u001b[0m\u001b[0;34m\u001b[0m\u001b[0;34m\u001b[0m\u001b[0m\n\u001b[0;32m---> 60\u001b[0;31m         \u001b[0;32mreturn\u001b[0m \u001b[0msession\u001b[0m\u001b[0;34m.\u001b[0m\u001b[0mrequest\u001b[0m\u001b[0;34m(\u001b[0m\u001b[0mmethod\u001b[0m\u001b[0;34m=\u001b[0m\u001b[0mmethod\u001b[0m\u001b[0;34m,\u001b[0m \u001b[0murl\u001b[0m\u001b[0;34m=\u001b[0m\u001b[0murl\u001b[0m\u001b[0;34m,\u001b[0m \u001b[0;34m**\u001b[0m\u001b[0mkwargs\u001b[0m\u001b[0;34m)\u001b[0m\u001b[0;34m\u001b[0m\u001b[0;34m\u001b[0m\u001b[0m\n\u001b[0m\u001b[1;32m     61\u001b[0m \u001b[0;34m\u001b[0m\u001b[0m\n\u001b[1;32m     62\u001b[0m \u001b[0;34m\u001b[0m\u001b[0m\n",
      "\u001b[0;32m~/anaconda3/lib/python3.6/site-packages/requests/sessions.py\u001b[0m in \u001b[0;36mrequest\u001b[0;34m(self, method, url, params, data, headers, cookies, files, auth, timeout, allow_redirects, proxies, hooks, stream, verify, cert, json)\u001b[0m\n\u001b[1;32m    531\u001b[0m         }\n\u001b[1;32m    532\u001b[0m         \u001b[0msend_kwargs\u001b[0m\u001b[0;34m.\u001b[0m\u001b[0mupdate\u001b[0m\u001b[0;34m(\u001b[0m\u001b[0msettings\u001b[0m\u001b[0;34m)\u001b[0m\u001b[0;34m\u001b[0m\u001b[0;34m\u001b[0m\u001b[0m\n\u001b[0;32m--> 533\u001b[0;31m         \u001b[0mresp\u001b[0m \u001b[0;34m=\u001b[0m \u001b[0mself\u001b[0m\u001b[0;34m.\u001b[0m\u001b[0msend\u001b[0m\u001b[0;34m(\u001b[0m\u001b[0mprep\u001b[0m\u001b[0;34m,\u001b[0m \u001b[0;34m**\u001b[0m\u001b[0msend_kwargs\u001b[0m\u001b[0;34m)\u001b[0m\u001b[0;34m\u001b[0m\u001b[0;34m\u001b[0m\u001b[0m\n\u001b[0m\u001b[1;32m    534\u001b[0m \u001b[0;34m\u001b[0m\u001b[0m\n\u001b[1;32m    535\u001b[0m         \u001b[0;32mreturn\u001b[0m \u001b[0mresp\u001b[0m\u001b[0;34m\u001b[0m\u001b[0;34m\u001b[0m\u001b[0m\n",
      "\u001b[0;32m~/anaconda3/lib/python3.6/site-packages/requests/sessions.py\u001b[0m in \u001b[0;36msend\u001b[0;34m(self, request, **kwargs)\u001b[0m\n\u001b[1;32m    644\u001b[0m \u001b[0;34m\u001b[0m\u001b[0m\n\u001b[1;32m    645\u001b[0m         \u001b[0;31m# Send the request\u001b[0m\u001b[0;34m\u001b[0m\u001b[0;34m\u001b[0m\u001b[0;34m\u001b[0m\u001b[0m\n\u001b[0;32m--> 646\u001b[0;31m         \u001b[0mr\u001b[0m \u001b[0;34m=\u001b[0m \u001b[0madapter\u001b[0m\u001b[0;34m.\u001b[0m\u001b[0msend\u001b[0m\u001b[0;34m(\u001b[0m\u001b[0mrequest\u001b[0m\u001b[0;34m,\u001b[0m \u001b[0;34m**\u001b[0m\u001b[0mkwargs\u001b[0m\u001b[0;34m)\u001b[0m\u001b[0;34m\u001b[0m\u001b[0;34m\u001b[0m\u001b[0m\n\u001b[0m\u001b[1;32m    647\u001b[0m \u001b[0;34m\u001b[0m\u001b[0m\n\u001b[1;32m    648\u001b[0m         \u001b[0;31m# Total elapsed time of the request (approximately)\u001b[0m\u001b[0;34m\u001b[0m\u001b[0;34m\u001b[0m\u001b[0;34m\u001b[0m\u001b[0m\n",
      "\u001b[0;32m~/anaconda3/lib/python3.6/site-packages/requests/adapters.py\u001b[0m in \u001b[0;36msend\u001b[0;34m(self, request, stream, timeout, verify, cert, proxies)\u001b[0m\n\u001b[1;32m    512\u001b[0m             \u001b[0;32mif\u001b[0m \u001b[0misinstance\u001b[0m\u001b[0;34m(\u001b[0m\u001b[0me\u001b[0m\u001b[0;34m.\u001b[0m\u001b[0mreason\u001b[0m\u001b[0;34m,\u001b[0m \u001b[0m_SSLError\u001b[0m\u001b[0;34m)\u001b[0m\u001b[0;34m:\u001b[0m\u001b[0;34m\u001b[0m\u001b[0;34m\u001b[0m\u001b[0m\n\u001b[1;32m    513\u001b[0m                 \u001b[0;31m# This branch is for urllib3 v1.22 and later.\u001b[0m\u001b[0;34m\u001b[0m\u001b[0;34m\u001b[0m\u001b[0;34m\u001b[0m\u001b[0m\n\u001b[0;32m--> 514\u001b[0;31m                 \u001b[0;32mraise\u001b[0m \u001b[0mSSLError\u001b[0m\u001b[0;34m(\u001b[0m\u001b[0me\u001b[0m\u001b[0;34m,\u001b[0m \u001b[0mrequest\u001b[0m\u001b[0;34m=\u001b[0m\u001b[0mrequest\u001b[0m\u001b[0;34m)\u001b[0m\u001b[0;34m\u001b[0m\u001b[0;34m\u001b[0m\u001b[0m\n\u001b[0m\u001b[1;32m    515\u001b[0m \u001b[0;34m\u001b[0m\u001b[0m\n\u001b[1;32m    516\u001b[0m             \u001b[0;32mraise\u001b[0m \u001b[0mConnectionError\u001b[0m\u001b[0;34m(\u001b[0m\u001b[0me\u001b[0m\u001b[0;34m,\u001b[0m \u001b[0mrequest\u001b[0m\u001b[0;34m=\u001b[0m\u001b[0mrequest\u001b[0m\u001b[0;34m)\u001b[0m\u001b[0;34m\u001b[0m\u001b[0;34m\u001b[0m\u001b[0m\n",
      "\u001b[0;31mSSLError\u001b[0m: HTTPSConnectionPool(host='www.ebay.com', port=443): Max retries exceeded with url: /sch/i.html?_nkw=rouje&LH_Complete=1&LH_Sold=1&rt=nc&LH_ItemCondition=3000 (Caused by SSLError(SSLError(\"bad handshake: SysCallError(-1, 'Unexpected EOF')\",),))"
     ]
    }
   ],
   "source": [
    "page_num = 1\n",
    "\n",
    "# Create lists to store the scraped information\n",
    "summary = []\n",
    "price = []\n",
    "\n",
    "while page_num<=500:\n",
    "    html = requests.get(urlpage.format(page_num)).text\n",
    "    soup = BeautifulSoup(html, 'html.parser')\n",
    "\n",
    "    for item in soup.select('div.s-item__info.clearfix'):\n",
    "        if item.select_one(\"h3.s-item__title\"):\n",
    "            summary.append(item.select_one(\"h3.s-item__title\").text)\n",
    "        if item.select_one(\"span.s-item__price\"):\n",
    "            price.append(item.select_one(\"span.s-item__price\").text)\n",
    "\n",
    "    page_num=page_num+1\n",
    "\n",
    "# Check the results\n",
    "print(len(summary))\n",
    "print(len(price))"
   ]
  },
  {
   "cell_type": "code",
   "execution_count": 112,
   "metadata": {},
   "outputs": [
    {
     "name": "stdout",
     "output_type": "stream",
     "text": [
      "11088\n",
      "11088\n"
     ]
    }
   ],
   "source": [
    "print(len(summary))\n",
    "print(len(price))"
   ]
  },
  {
   "cell_type": "markdown",
   "metadata": {},
   "source": [
    "#### Change the df name each time, an unfortunate hassle that avoids confusion..."
   ]
  },
  {
   "cell_type": "code",
   "execution_count": 113,
   "metadata": {},
   "outputs": [
    {
     "name": "stdout",
     "output_type": "stream",
     "text": [
      "<class 'pandas.core.frame.DataFrame'>\n",
      "RangeIndex: 11088 entries, 0 to 11087\n",
      "Data columns (total 2 columns):\n",
      "summary    11088 non-null object\n",
      "price      11088 non-null object\n",
      "dtypes: object(2)\n",
      "memory usage: 173.4+ KB\n",
      "None\n"
     ]
    },
    {
     "data": {
      "text/html": [
       "<div>\n",
       "<style scoped>\n",
       "    .dataframe tbody tr th:only-of-type {\n",
       "        vertical-align: middle;\n",
       "    }\n",
       "\n",
       "    .dataframe tbody tr th {\n",
       "        vertical-align: top;\n",
       "    }\n",
       "\n",
       "    .dataframe thead th {\n",
       "        text-align: right;\n",
       "    }\n",
       "</style>\n",
       "<table border=\"1\" class=\"dataframe\">\n",
       "  <thead>\n",
       "    <tr style=\"text-align: right;\">\n",
       "      <th></th>\n",
       "      <th>summary</th>\n",
       "      <th>price</th>\n",
       "    </tr>\n",
       "  </thead>\n",
       "  <tbody>\n",
       "    <tr>\n",
       "      <td>0</td>\n",
       "      <td>Rouje Green Cardigan Size 34 XS As Seen On Jea...</td>\n",
       "      <td>$120.00</td>\n",
       "    </tr>\n",
       "    <tr>\n",
       "      <td>1</td>\n",
       "      <td>ROUJE Cream Wool Roundneck Cardigan Size 36</td>\n",
       "      <td>$125.73</td>\n",
       "    </tr>\n",
       "    <tr>\n",
       "      <td>2</td>\n",
       "      <td>Rouje Yasmine Top, Size 36, Like New, SOLD OUT...</td>\n",
       "      <td>$60.29</td>\n",
       "    </tr>\n",
       "    <tr>\n",
       "      <td>3</td>\n",
       "      <td>Rouje Giulia T shirt 34</td>\n",
       "      <td>$40.00</td>\n",
       "    </tr>\n",
       "    <tr>\n",
       "      <td>4</td>\n",
       "      <td>Rouje (Jeanne Demas) ‘Remi’ T-shirt - Size 40 ...</td>\n",
       "      <td>$15.63</td>\n",
       "    </tr>\n",
       "  </tbody>\n",
       "</table>\n",
       "</div>"
      ],
      "text/plain": [
       "                                             summary    price\n",
       "0  Rouje Green Cardigan Size 34 XS As Seen On Jea...  $120.00\n",
       "1        ROUJE Cream Wool Roundneck Cardigan Size 36  $125.73\n",
       "2  Rouje Yasmine Top, Size 36, Like New, SOLD OUT...   $60.29\n",
       "3                            Rouje Giulia T shirt 34   $40.00\n",
       "4  Rouje (Jeanne Demas) ‘Remi’ T-shirt - Size 40 ...   $15.63"
      ]
     },
     "execution_count": 113,
     "metadata": {},
     "output_type": "execute_result"
    }
   ],
   "source": [
    "po_eBay_rouje_df = pd.DataFrame({'summary': summary, 'price': price})\n",
    "print(po_eBay_rouje_df.info())\n",
    "po_eBay_rouje_df.head()"
   ]
  },
  {
   "cell_type": "markdown",
   "metadata": {},
   "source": [
    "Run through all 10 brands before proceeding below.\n",
    "\n",
    "As proof-of-concept, I created this workflow using the first two brands, so the code below referring to those data is commented out."
   ]
  },
  {
   "cell_type": "markdown",
   "metadata": {},
   "source": [
    "## Cleaning the data\n",
    "\n",
    "Here is a list of my dfs:"
   ]
  },
  {
   "cell_type": "code",
   "execution_count": 105,
   "metadata": {},
   "outputs": [
    {
     "data": {
      "text/plain": [
       "'\\n#print(new_eBay_lululemon_df.head())\\n#print(po_eBay_lululemon_df.head())\\n#print(new_eBay_ref_df.head())\\n#print(po_eBay_ref_df.head())\\nprint(new_eBay_sezane_df.head())\\nprint(po_eBay_sezane_df.head())\\nprint(new_eBay_doen_df.head())\\nprint(po_eBay_doen_df.head())\\nprint(new_eBay_realisationpar_df.head())\\nprint(po_eBay_realisationpar_df.head())\\nprint(new_eBay_iro_df.head())\\nprint(po_eBay_iro_df.head())\\nprint(new_eBay_ullajohnson_df.head())\\nprint(po_eBay_ullajohnson_df.head())\\nprint(new_eBay_zimmermann_df.head())\\nprint(po_eBay_zimmermann_df.head())\\nprint(new_eBay_therow_df.head())\\nprint(po_eBay_therow_df.head())\\n'"
      ]
     },
     "execution_count": 105,
     "metadata": {},
     "output_type": "execute_result"
    }
   ],
   "source": [
    "'''\n",
    "#print(new_eBay_lululemon_df.head())\n",
    "#print(po_eBay_lululemon_df.head())\n",
    "#print(new_eBay_ref_df.head())\n",
    "#print(po_eBay_ref_df.head())\n",
    "print(new_eBay_sezane_df.head())\n",
    "print(po_eBay_sezane_df.head())\n",
    "print(new_eBay_doen_df.head())\n",
    "print(po_eBay_doen_df.head())\n",
    "print(new_eBay_realisationpar_df.head())\n",
    "print(po_eBay_realisationpar_df.head())\n",
    "print(new_eBay_iro_df.head())\n",
    "print(po_eBay_iro_df.head())\n",
    "print(new_eBay_ullajohnson_df.head())\n",
    "print(po_eBay_ullajohnson_df.head())\n",
    "print(new_eBay_zimmermann_df.head())\n",
    "print(po_eBay_zimmermann_df.head())\n",
    "print(new_eBay_therow_df.head())\n",
    "print(po_eBay_therow_df.head())\n",
    "print(new_eBay_rouje_df.head())\n",
    "print(po_eBay_rouje_df.head())\n",
    "'''"
   ]
  },
  {
   "cell_type": "markdown",
   "metadata": {},
   "source": [
    "#### Adding new columns: brand, condition, category"
   ]
  },
  {
   "cell_type": "code",
   "execution_count": 114,
   "metadata": {},
   "outputs": [],
   "source": [
    "#new_eBay_lululemon_df['brand'] = 'lululemon'\n",
    "#po_eBay_lululemon_df['brand'] = 'lululemon'\n",
    "#new_eBay_ref_df['brand'] = 'reformation'\n",
    "#po_eBay_ref_df['brand'] = 'reformation'\n",
    "new_eBay_sezane_df['brand'] = 'sezane'\n",
    "po_eBay_sezane_df['brand'] = 'sezane'\n",
    "new_eBay_doen_df['brand'] = 'doen'\n",
    "po_eBay_doen_df['brand'] = 'doen'\n",
    "new_eBay_realisationpar_df['brand'] = 'realisationpar'\n",
    "po_eBay_realisationpar_df['brand'] = 'realisationpar'\n",
    "new_eBay_iro_df['brand'] = 'iro'\n",
    "po_eBay_iro_df['brand'] = 'iro'\n",
    "new_eBay_ullajohnson_df['brand'] = 'ullajohnson'\n",
    "po_eBay_ullajohnson_df['brand'] = 'ullajohnson'\n",
    "new_eBay_zimmermann_df['brand'] = 'zimmermann'\n",
    "po_eBay_zimmermann_df['brand'] = 'zimmermann'\n",
    "new_eBay_therow_df['brand'] = 'therow'\n",
    "po_eBay_therow_df['brand'] = 'therow'\n",
    "new_eBay_rouje_df['brand'] = 'rouje'\n",
    "po_eBay_rouje_df['brand'] = 'rouje'\n",
    "\n",
    "#new_eBay_lululemon_df['condition'] = 'new'\n",
    "#po_eBay_lululemon_df['condition'] = 'preowned'\n",
    "#new_eBay_ref_df['condition'] = 'new'\n",
    "#po_eBay_ref_df['condition'] = 'preowned'\n",
    "new_eBay_sezane_df['condition'] = 'new'\n",
    "po_eBay_sezane_df['condition'] = 'preowned'\n",
    "new_eBay_doen_df['condition'] = 'new'\n",
    "po_eBay_doen_df['condition'] = 'preowned'\n",
    "new_eBay_realisationpar_df['condition'] = 'new'\n",
    "po_eBay_realisationpar_df['condition'] = 'preowned'\n",
    "new_eBay_iro_df['condition'] = 'new'\n",
    "po_eBay_iro_df['condition'] = 'preowned'\n",
    "new_eBay_ullajohnson_df['condition'] = 'new'\n",
    "po_eBay_ullajohnson_df['condition'] = 'preowned'\n",
    "new_eBay_zimmermann_df['condition'] = 'new'\n",
    "po_eBay_zimmermann_df['condition'] = 'preowned'\n",
    "new_eBay_therow_df['condition'] = 'new'\n",
    "po_eBay_therow_df['condition'] = 'preowned'\n",
    "new_eBay_rouje_df['condition'] = 'new'\n",
    "po_eBay_rouje_df['condition'] = 'preowned'\n",
    "\n",
    "#new_eBay_lululemon_df['category'] = ''\n",
    "#po_eBay_lululemon_df['category'] = ''\n",
    "#new_eBay_ref_df['category'] = ''\n",
    "#po_eBay_ref_df['category'] = ''\n",
    "new_eBay_sezane_df['category'] = ''\n",
    "po_eBay_sezane_df['category'] = ''\n",
    "new_eBay_doen_df['category'] = ''\n",
    "po_eBay_doen_df['category'] = ''\n",
    "new_eBay_realisationpar_df['category'] = ''\n",
    "po_eBay_realisationpar_df['category'] = ''\n",
    "new_eBay_iro_df['category'] = ''\n",
    "po_eBay_iro_df['category'] = ''\n",
    "new_eBay_ullajohnson_df['category'] = ''\n",
    "po_eBay_ullajohnson_df['category'] = ''\n",
    "new_eBay_zimmermann_df['category'] = ''\n",
    "po_eBay_zimmermann_df['category'] = ''\n",
    "new_eBay_therow_df['category'] = ''\n",
    "po_eBay_therow_df['category'] = ''\n",
    "new_eBay_rouje_df['category'] = ''\n",
    "po_eBay_rouje_df['category'] = ''"
   ]
  },
  {
   "cell_type": "markdown",
   "metadata": {},
   "source": [
    "#### Convert all 'summary' strings to lowercase"
   ]
  },
  {
   "cell_type": "code",
   "execution_count": 115,
   "metadata": {},
   "outputs": [],
   "source": [
    "#new_eBay_lululemon_df['summary']= new_eBay_lululemon_df['summary'].str.lower()\n",
    "#po_eBay_lululemon_df['summary'] = po_eBay_lululemon_df['summary'].str.lower()\n",
    "#new_eBay_ref_df['summary']= new_eBay_ref_df['summary'].str.lower()\n",
    "#po_eBay_ref_df['summary'] = po_eBay_ref_df['summary'].str.lower()\n",
    "new_eBay_sezane_df['summary'] = new_eBay_sezane_df['summary'].str.lower()\n",
    "po_eBay_sezane_df['summary'] = po_eBay_sezane_df['summary'].str.lower()\n",
    "new_eBay_doen_df['summary'] = new_eBay_doen_df['summary'].str.lower()\n",
    "po_eBay_doen_df['summary'] = po_eBay_doen_df['summary'].str.lower()\n",
    "new_eBay_realisationpar_df['summary'] = new_eBay_realisationpar_df['summary'].str.lower()\n",
    "po_eBay_realisationpar_df['summary'] = po_eBay_realisationpar_df['summary'].str.lower()\n",
    "new_eBay_iro_df['summary'] = new_eBay_iro_df['summary'].str.lower()\n",
    "po_eBay_iro_df['summary'] = po_eBay_iro_df['summary'].str.lower()\n",
    "new_eBay_ullajohnson_df['summary'] = new_eBay_ullajohnson_df['summary'].str.lower()\n",
    "po_eBay_ullajohnson_df['summary'] = po_eBay_ullajohnson_df['summary'].str.lower()\n",
    "new_eBay_zimmermann_df['summary'] = new_eBay_zimmermann_df['summary'].str.lower()\n",
    "po_eBay_zimmermann_df['summary'] = po_eBay_zimmermann_df['summary'].str.lower()\n",
    "new_eBay_therow_df['summary'] = new_eBay_therow_df['summary'].str.lower()\n",
    "po_eBay_therow_df['summary'] = po_eBay_therow_df['summary'].str.lower()\n",
    "new_eBay_rouje_df['summary'] = new_eBay_rouje_df['summary'].str.lower()\n",
    "po_eBay_rouje_df['summary'] = po_eBay_rouje_df['summary'].str.lower()"
   ]
  },
  {
   "cell_type": "markdown",
   "metadata": {},
   "source": [
    "#### Assigning the items to categories based on keywords pulled from the summary description"
   ]
  },
  {
   "cell_type": "code",
   "execution_count": 134,
   "metadata": {},
   "outputs": [],
   "source": [
    "tops = ['top', 'shirt', 'tee', 'tank']\n",
    "bottoms = ['skirt', 'pants', 'pant', 'short', 'crop', 'crops', 'shorts', 'leggings', 'tights', 'jeans']\n",
    "dresses = ['dress']\n",
    "#jumpsuits = ['jumpsuit']\n",
    "bras = ['bra', 'bras']\n",
    "outerwear = ['jacket', 'hoodie', 'sweater', 'sweatshirt', 'rainjacket', 'coat', 'parka', 'turtleneck']\n",
    "#accessories = ['headband', 'bag', 'beanie', 'hat', 'toque', 'scarf', 'gloves', 'socks']\n",
    "#bag = ['backpack', 'tote', 'duffel']\n",
    "\n",
    "def fun(a):\n",
    "    for i in tops:\n",
    "        if i in a:\n",
    "            return \"tops\"\n",
    "    for j in bottoms:\n",
    "        if j in a:\n",
    "            return \"bottoms\"\n",
    "    for k in bras:\n",
    "        if k in a:\n",
    "            return \"bras\"\n",
    "    for l in dresses:\n",
    "        if l in a:\n",
    "            return \"dresses\"\n",
    "    for m in outerwear:\n",
    "        if m in a:\n",
    "            return \"outerwear\"\n",
    "    return \"other\"\n",
    "\n",
    "#new_eBay_lululemon_df.category = new_eBay_lululemon_df.summary.apply(lambda x: fun(x))\n",
    "#po_eBay_lululemon_df.category = po_eBay_lululemon_df.summary.apply(lambda x: fun(x))\n",
    "#new_eBay_ref_df.category = new_eBay_ref_df.summary.apply(lambda x: fun(x))\n",
    "#po_eBay_ref_df.category = po_eBay_ref_df.summary.apply(lambda x: fun(x))\n",
    "new_eBay_sezane_df.category = new_eBay_sezane_df.summary.apply(lambda x: fun(x))\n",
    "po_eBay_sezane_df.category = po_eBay_sezane_df.summary.apply(lambda x: fun(x))\n",
    "new_eBay_doen_df.category = new_eBay_doen_df.summary.apply(lambda x: fun(x))\n",
    "po_eBay_doen_df.category = po_eBay_doen_df.summary.apply(lambda x: fun(x))\n",
    "new_eBay_realisationpar_df.category = new_eBay_realisationpar_df.summary.apply(lambda x: fun(x))\n",
    "po_eBay_realisationpar_df.category = po_eBay_realisationpar_df.summary.apply(lambda x: fun(x))\n",
    "new_eBay_iro_df.category = new_eBay_iro_df.summary.apply(lambda x: fun(x))\n",
    "po_eBay_iro_df.category = po_eBay_iro_df.summary.apply(lambda x: fun(x))\n",
    "new_eBay_ullajohnson_df.category = new_eBay_ullajohnson_df.summary.apply(lambda x: fun(x))\n",
    "po_eBay_ullajohnson_df.category = po_eBay_ullajohnson_df.summary.apply(lambda x: fun(x))\n",
    "new_eBay_zimmermann_df.category = new_eBay_zimmermann_df.summary.apply(lambda x: fun(x))\n",
    "po_eBay_zimmermann_df.category = po_eBay_zimmermann_df.summary.apply(lambda x: fun(x))\n",
    "new_eBay_therow_df.category = new_eBay_therow_df.summary.apply(lambda x: fun(x))\n",
    "po_eBay_therow_df.category = po_eBay_therow_df.summary.apply(lambda x: fun(x))\n",
    "new_eBay_rouje_df.category = new_eBay_rouje_df.summary.apply(lambda x: fun(x))\n",
    "po_eBay_rouje_df.category = po_eBay_rouje_df.summary.apply(lambda x: fun(x))"
   ]
  },
  {
   "cell_type": "markdown",
   "metadata": {},
   "source": [
    "#### Strip dollar sign from 'price'"
   ]
  },
  {
   "cell_type": "code",
   "execution_count": 117,
   "metadata": {},
   "outputs": [],
   "source": [
    "#new_eBay_lululemon_df['price'] = new_eBay_lululemon_df['price'].str.replace('$', '')\n",
    "#po_eBay_lululemon_df['price'] = po_eBay_lululemon_df['price'].str.replace('$', '')\n",
    "#new_eBay_ref_df['price'] = new_eBay_ref_df['price'].str.replace('$', '')\n",
    "#po_eBay_ref_df['price'] = po_eBay_ref_df['price'].str.replace('$', '')\n",
    "new_eBay_sezane_df['price'] = new_eBay_sezane_df['price'].str.replace('$', '')\n",
    "po_eBay_sezane_df['price'] = po_eBay_sezane_df['price'].str.replace('$', '')\n",
    "new_eBay_doen_df['price'] = new_eBay_doen_df['price'].str.replace('$', '')\n",
    "po_eBay_doen_df['price'] = po_eBay_doen_df['price'].str.replace('$', '')\n",
    "new_eBay_realisationpar_df['price'] = new_eBay_realisationpar_df['price'].str.replace('$', '')\n",
    "po_eBay_realisationpar_df['price'] = po_eBay_realisationpar_df['price'].str.replace('$', '')\n",
    "new_eBay_iro_df['price'] = new_eBay_iro_df['price'].str.replace('$', '')\n",
    "po_eBay_iro_df['price'] = po_eBay_iro_df['price'].str.replace('$', '')\n",
    "new_eBay_ullajohnson_df['price'] = new_eBay_ullajohnson_df['price'].str.replace('$', '')\n",
    "po_eBay_ullajohnson_df['price'] = po_eBay_ullajohnson_df['price'].str.replace('$', '')\n",
    "new_eBay_zimmermann_df['price'] = new_eBay_zimmermann_df['price'].str.replace('$', '')\n",
    "po_eBay_zimmermann_df['price'] = po_eBay_zimmermann_df['price'].str.replace('$', '')\n",
    "new_eBay_therow_df['price'] = new_eBay_therow_df['price'].str.replace('$', '')\n",
    "po_eBay_therow_df['price'] = po_eBay_therow_df['price'].str.replace('$', '')\n",
    "new_eBay_rouje_df['price'] = new_eBay_rouje_df['price'].str.replace('$', '')\n",
    "po_eBay_rouje_df['price'] = po_eBay_rouje_df['price'].str.replace('$', '')"
   ]
  },
  {
   "cell_type": "markdown",
   "metadata": {},
   "source": [
    "#### Add a site column and save as CSV for now"
   ]
  },
  {
   "cell_type": "code",
   "execution_count": 138,
   "metadata": {},
   "outputs": [],
   "source": [
    "#new_eBay_lululemon_df['site'] = 'ebay'\n",
    "#po_eBay_lululemon_df['site'] = 'ebay'\n",
    "#new_eBay_ref_df['site'] = 'ebay'\n",
    "#po_eBay_ref_df['site'] = 'ebay'\n",
    "new_eBay_sezane_df['site'] = 'ebay'\n",
    "po_eBay_sezane_df['site'] = 'ebay'\n",
    "new_eBay_doen_df['site'] = 'ebay'\n",
    "po_eBay_doen_df['site'] = 'ebay'\n",
    "new_eBay_realisationpar_df['site'] = 'ebay'\n",
    "po_eBay_realisationpar_df['site'] = 'ebay'\n",
    "new_eBay_iro_df['site'] = 'ebay'\n",
    "po_eBay_iro_df['site'] = 'ebay'\n",
    "new_eBay_ullajohnson_df['site'] = 'ebay'\n",
    "po_eBay_ullajohnson_df['site'] = 'ebay'\n",
    "new_eBay_zimmermann_df['site'] = 'ebay'\n",
    "po_eBay_zimmermann_df['site'] = 'ebay'\n",
    "new_eBay_therow_df['site'] = 'ebay'\n",
    "po_eBay_therow_df['site'] = 'ebay'\n",
    "new_eBay_rouje_df['site'] = 'ebay'\n",
    "po_eBay_rouje_df['site'] = 'ebay'\n",
    "\n",
    "\n",
    "#pd.DataFrame.to_csv(new_eBay_lululemon_df, 'new_eBay_lululemon_df.csv') # Can also save to .json\n",
    "#pd.DataFrame.to_csv(po_eBay_lululemon_df, 'po_eBay_lululemon_df.csv')\n",
    "#pd.DataFrame.to_csv(new_eBay_ref_df, 'new_eBay_ref_df.csv')\n",
    "#pd.DataFrame.to_csv(po_eBay_ref_df, 'po_eBay_ref_df.csv')\n",
    "pd.DataFrame.to_csv(new_eBay_sezane_df, 'new_eBay_sezane_df.csv') \n",
    "pd.DataFrame.to_csv(po_eBay_sezane_df, 'po_eBay_sezane_df.csv')\n",
    "pd.DataFrame.to_csv(new_eBay_doen_df, 'new_eBay_doen_df.csv')\n",
    "pd.DataFrame.to_csv(po_eBay_doen_df, 'po_eBay_doen_df.csv')\n",
    "pd.DataFrame.to_csv(new_eBay_realisationpar_df, 'new_eBay_realisationpar_df.csv')\n",
    "pd.DataFrame.to_csv(po_eBay_realisationpar_df, 'po_eBay_realisationpar_df.csv')\n",
    "pd.DataFrame.to_csv(new_eBay_iro_df, 'new_eBay_iro_df.csv')\n",
    "pd.DataFrame.to_csv(po_eBay_iro_df, 'po_eBay_iro_df.csv')\n",
    "pd.DataFrame.to_csv(new_eBay_ullajohnson_df, 'new_eBay_ullajohnson_df.csv')\n",
    "pd.DataFrame.to_csv(po_eBay_ullajohnson_df, 'po_eBay_ullajohnson_df.csv')\n",
    "pd.DataFrame.to_csv(new_eBay_zimmermann_df, 'new_eBay_zimmermann_df.csv')\n",
    "pd.DataFrame.to_csv(po_eBay_zimmermann_df, 'po_eBay_zimmermann_df.csv')\n",
    "pd.DataFrame.to_csv(new_eBay_therow_df, 'new_eBay_therow_df.csv')\n",
    "pd.DataFrame.to_csv(po_eBay_therow_df, 'po_eBay_therow_df.csv')\n",
    "pd.DataFrame.to_csv(new_eBay_rouje_df, 'new_eBay_rouje_df.csv')\n",
    "pd.DataFrame.to_csv(po_eBay_rouje_df, 'po_eBay_rouje_df.csv')"
   ]
  }
 ],
 "metadata": {
  "kernelspec": {
   "display_name": "Python 3",
   "language": "python",
   "name": "python3"
  },
  "language_info": {
   "codemirror_mode": {
    "name": "ipython",
    "version": 3
   },
   "file_extension": ".py",
   "mimetype": "text/x-python",
   "name": "python",
   "nbconvert_exporter": "python",
   "pygments_lexer": "ipython3",
   "version": "3.6.9"
  }
 },
 "nbformat": 4,
 "nbformat_minor": 2
}
