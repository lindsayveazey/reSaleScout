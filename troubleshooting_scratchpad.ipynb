{
 "cells": [
  {
   "cell_type": "markdown",
   "metadata": {},
   "source": [
    "This tutorial walks you through troubleshooting your own app.py (flask) script.\n",
    "\n",
    "You should have 3 files downloaded to follow this tutorial:\n",
    "\n",
    "- app.py \n",
    "- home.html \n",
    "- result.html\n",
    "\n",
    "Where you put these files matters. Type this in terminal:\n",
    "\n",
    "1. ```cd Insight/``` Navigate to your project folder. Mine is called Insight.\n",
    "2. ``` . venv/bin/activate``` Turn on your virtual environment.\n",
    "3. ```mkdir templates``` Create a new folder called 'templates'.\n",
    "\n",
    "Put app.py in your Insight folder.\n",
    "Put home.html and result.html in your templates/ folder.\n",
    "\n",
    "*Also important*: We will be using the model.pkl and cat files we created using Random_forests.ipynb. You can ensure these are in the same main directory as app.py by typing in terminal:\n",
    "\n",
    "```shell\n",
    "ls -ltr\n",
    "```\n",
    "They should appear near the bottom of the terminal window."
   ]
  },
  {
   "cell_type": "markdown",
   "metadata": {},
   "source": [
    "## Troubleshooting app.py\n",
    "\n",
    "Open **app.py** in a text editor. I've copied the important chunks below for troubleshooting, so just observe which chunks I'm working with to make it all go."
   ]
  },
  {
   "cell_type": "markdown",
   "metadata": {},
   "source": [
    "#### Import modules (run the cell below)"
   ]
  },
  {
   "cell_type": "code",
   "execution_count": 43,
   "metadata": {},
   "outputs": [],
   "source": [
    "import pickle\n",
    "import numpy as np"
   ]
  },
  {
   "cell_type": "markdown",
   "metadata": {},
   "source": [
    "#### Testing parameters set-by-set"
   ]
  },
  {
   "cell_type": "markdown",
   "metadata": {},
   "source": [
    "Now what we're doing is running some test cases to ensure that the script and the model are communicating properly. \n",
    "\n",
    "**You'll notice that the chunk below is *not* in app.py.** This is because I'm just testing the main portion of app.py, which is pasted immediately below the following cell. \n",
    "\n",
    "I'm testing it by giving it a single set of parameters. \n",
    "\n",
    "The idea is that I when I manually change these parameters- as a user would do when using the app- the model will spit out *different predictions*, which we can check each time we manually change this single test set.\n",
    "\n",
    "The alternative parameter options (aka, the categorical values of my Brand, Condition, Category, and Site columns in cleaned_df.csv) are typed as comments below. During troubleshooting, I'll substitute these in manually to ensure the model spits out different predicted prices.\n",
    "\n",
    "Now, run the cell below."
   ]
  },
  {
   "cell_type": "code",
   "execution_count": 66,
   "metadata": {},
   "outputs": [],
   "source": [
    "brand='lululemon' # Reformation\n",
    "condition='New' # PreOwned\n",
    "category='bottoms' # tops, bras, dresses, outerwear\n",
    "site='poshmark' # eBay"
   ]
  },
  {
   "cell_type": "markdown",
   "metadata": {},
   "source": [
    "Nearly there. Here is what to look for as you adapt the script below for your own work:\n",
    "\n",
    "1. In ```cat_vector[index_dict['Brand_'+str(brand)]] = 1``` ...you should change **Brand_** and **brand** (or **Condition_** and **condition**, etc.) to correspond to the renamed/one hot encoded categorical columns in your dataframe. Don't know what I mean? See the cell at the bottom where I finally got a clue and ran ```index_dict```, which is created in the third line of the code below. See how the output is a dictionary where the format is: 'Column_option1'? *Don't forget the _ in your string identification*. Forgetting this stole an hour of my life.\n",
    "\n",
    "2. ```prediction = model.predict(cat_vector.reshape(1, -1))```: Our lord and savior Abhilash helped me with this earlier today. This reshape command is *not* in the [original tutorial](https://xcitech.github.io/tutorials/heroku_tutorial/). It's important!\n",
    "\n",
    "Run the cell below. "
   ]
  },
  {
   "cell_type": "code",
   "execution_count": 67,
   "metadata": {},
   "outputs": [],
   "source": [
    "pkl_file = open('cat', 'rb')\n",
    "index_dict = pickle.load(pkl_file)\n",
    "cat_vector = np.zeros(len(index_dict))\n",
    "\n",
    "try:\n",
    "    cat_vector[index_dict['Brand_'+str(brand)]] = 1\n",
    "except:\n",
    "    pass\n",
    "try:\n",
    "    cat_vector[index_dict['Condition_'+str(condition)]] = 1\n",
    "except:\n",
    "    pass\n",
    "try:\n",
    "    cat_vector[index_dict['Category_'+str(category)]] = 1\n",
    "except:\n",
    "    pass\n",
    "try:\n",
    "    cat_vector[index_dict['Site_'+str(site)]] = 1\n",
    "except:\n",
    "    pass\n",
    "\n",
    "pkl_file = open('model.pkl', 'rb')\n",
    "model = pickle.load(pkl_file)\n",
    "prediction = model.predict(cat_vector.reshape(1, -1))"
   ]
  },
  {
   "cell_type": "markdown",
   "metadata": {},
   "source": [
    "We can check the prediction each time we rerun the chunk above by printing the prediction:"
   ]
  },
  {
   "cell_type": "code",
   "execution_count": 68,
   "metadata": {},
   "outputs": [
    {
     "name": "stdout",
     "output_type": "stream",
     "text": [
      "[20.]\n"
     ]
    }
   ],
   "source": [
    "print(prediction)"
   ]
  },
  {
   "cell_type": "code",
   "execution_count": 69,
   "metadata": {},
   "outputs": [
    {
     "data": {
      "text/plain": [
       "{'Brand_lululemon': 0,\n",
       " 'Condition_PreOwned': 1,\n",
       " 'Category_bras': 2,\n",
       " 'Category_dresses': 3,\n",
       " 'Category_outerwear': 4,\n",
       " 'Category_tops': 5,\n",
       " 'Site_eBay': 6}"
      ]
     },
     "execution_count": 69,
     "metadata": {},
     "output_type": "execute_result"
    }
   ],
   "source": [
    "# I referred to this above...\n",
    "index_dict"
   ]
  },
  {
   "cell_type": "markdown",
   "metadata": {},
   "source": [
    "**That's it.** You can ensure the prediction changes each time you change the parameters by rerunning the cells in order, 1-2-3.\n",
    "\n",
    "When you're satisfied that your pickle is talking to the script above, replace the chunk of code in your app.py file with what's above. You'll also have to edit this part of app.py, but it wasn't important for troubleshooting. Just don't forget to edit it:\n",
    "\n",
    "```python\n",
    "    if request.method=='POST':\n",
    "        result=request.form\n",
    "        brand = result['Brand'] # your Column1\n",
    "        category = result['Category'] # your Column2 etc.\n",
    "        condition = result['Condition']\n",
    "        site = result['Site']\n",
    "        ```"
   ]
  },
  {
   "cell_type": "markdown",
   "metadata": {},
   "source": [
    "Deploy your edited app.py in terminal like so:\n",
    "    \n",
    "```python\n",
    "cd Insight\n",
    ". venv/bin/activate\n",
    "python app.py\n",
    "```"
   ]
  }
 ],
 "metadata": {
  "kernelspec": {
   "display_name": "Python 3",
   "language": "python",
   "name": "python3"
  },
  "language_info": {
   "codemirror_mode": {
    "name": "ipython",
    "version": 3
   },
   "file_extension": ".py",
   "mimetype": "text/x-python",
   "name": "python",
   "nbconvert_exporter": "python",
   "pygments_lexer": "ipython3",
   "version": "3.6.9"
  }
 },
 "nbformat": 4,
 "nbformat_minor": 2
}
