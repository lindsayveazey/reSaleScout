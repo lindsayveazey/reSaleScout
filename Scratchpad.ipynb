{
 "cells": [
  {
   "cell_type": "markdown",
   "metadata": {},
   "source": [
    "<!--Silent header -->\n",
    "\n",
    "*Some notes as I go.* "
   ]
  },
  {
   "cell_type": "markdown",
   "metadata": {},
   "source": [
    "## Connecting to AWS\n",
    "Could just be for kicks, may not use this."
   ]
  },
  {
   "cell_type": "markdown",
   "metadata": {},
   "source": [
    "I'm following this [link](https://www.codementor.io/dushyantbgs/deploying-a-flask-application-to-aws-gnva38cf0) to set things up. \n",
    "\n",
    "I got through the first major Steps 1 and 2, then had a bit of trouble at the first line under Step 3: *To connect to your EC2 instance, follow the steps discussed in this [link](https://docs.aws.amazon.com/AWSEC2/latest/UserGuide/AccessingInstances.html).*\n",
    "\n",
    "I am working on Ubuntu 16.04. I found a solution that worked for me from [StackOverflow](https://stackoverflow.com/questions/8193768/trying-to-ssh-into-an-amazon-ec2-instance-permission-error). Below, I've bolded the sections of the commands I passed to terminal that **you need to change** to match *your* information.\n",
    "\n",
    "ssh-add ~/.ssh/**my_file**.pem\n",
    "\n",
    "ssh ec2-user@**ec2-18-216-123-38.us-east-2.compute.amazonaws.com**\n",
    "\n",
    "Note that if terminal grouses that \"permission denied...public key\", you need to execute the following command:"
   ]
  },
  {
   "cell_type": "markdown",
   "metadata": {},
   "source": [
    "```shell\n",
    "chmod 400 my_file.pem\n",
    "```"
   ]
  },
  {
   "cell_type": "markdown",
   "metadata": {},
   "source": [
    "### Installing Flask"
   ]
  },
  {
   "cell_type": "markdown",
   "metadata": {},
   "source": [
    "This is a continuation of Step 3. Once AWS is successfully launched using your .pem file, you need to install flask. In the terminal *where ec-2 is running* (aka, it doesn't matter if flask is installed locally), type:"
   ]
  },
  {
   "cell_type": "markdown",
   "metadata": {},
   "source": [
    "```\n",
    "sudo pip install flask\n",
    "```"
   ]
  },
  {
   "cell_type": "markdown",
   "metadata": {},
   "source": [
    "### Creating app.py"
   ]
  },
  {
   "cell_type": "markdown",
   "metadata": {},
   "source": [
    "In the same terminal running AWS, I used nano to create ```app.py```. It contains the following code:\n",
    "\n",
    "```python\n",
    "from flask import Flask\n",
    "app = Flask(__name__)\n",
    "\n",
    "@app.route('/')\n",
    "def hello_world():\n",
    "    return 'Hello, World!'\n",
    "\n",
    "if __name__ == \"__main__\":\n",
    "    app.run(host=\"0.0.0.0\", port=80)\n",
    "```"
   ]
  },
  {
   "cell_type": "markdown",
   "metadata": {},
   "source": [
    "### Deploying the app"
   ]
  },
  {
   "cell_type": "markdown",
   "metadata": {},
   "source": [
    "Once ```app.py``` has been created, still in the same terminal, deploy it by typing:\n",
    "    \n",
    "```python\n",
    "sudo python app.py\n",
    "```\n",
    "\n",
    "And you may access your text via the IP that appears on the Instances page of your EC2 Manager."
   ]
  },
  {
   "cell_type": "markdown",
   "metadata": {},
   "source": [
    "# Another flavor of scraping: selenium"
   ]
  },
  {
   "cell_type": "markdown",
   "metadata": {},
   "source": [
    "## Setting up: pandas (in venv), selenium (in venv), geckodriver, PhantomJS, Insomnia REST API"
   ]
  },
  {
   "cell_type": "markdown",
   "metadata": {},
   "source": [
    "Following the tutorial outlined [here](https://towardsdatascience.com/data-science-skills-web-scraping-javascript-using-python-97a29738353f).\n",
    "\n",
    "I didn't end up using selenium- I was able to paginate using **bs4**. But the steps below show my setup.\n",
    "\n",
    "First, I installed **pandas** and **selenium** libraries using the following command in my Insight/ folder (in terminal):\n",
    "\n",
    "```bash\n",
    "# cd Insight/\n",
    "# . venv/bin/activate\n",
    "pip install selenium\n",
    "pip install pandas\n",
    "```\n",
    "\n",
    "Then I downloaded the tar.gz file containing geckodriver, v0.25.0, located [here](https://github.com/mozilla/geckodriver/releases). I extracted it using Archive Manager and ensured it was executable. See the accepted answer at this [link](https://askubuntu.com/questions/870530/how-to-install-geckodriver-in-ubuntu) for another way to do this entirely through terminal. Finally, I added it to PATH (/home/lindsay/) using the following command (note that I do *not* specify the executable, geckodriver, here! It wouldn't work when I did. See [link](https://stackoverflow.com/questions/40073548/python-selenium-in-ubuntu-oserror-errno-20-not-a-directory).):\n",
    "\n",
    "```bash\n",
    "export PATH=$PATH:/home/lindsay/\n",
    "```\n",
    "\n",
    "I also needed to install PhantomJS. I followed [these](https://www.vultr.com/docs/how-to-install-phantomjs-on-ubuntu-16-04) starting at Step 2.\n",
    "\n",
    "```bash\n",
    "sudo apt-get install build-essential chrpath libssl-dev libxft-dev libfreetype6-dev libfreetype6 libfontconfig1-dev libfontconfig1 -y\n",
    "\n",
    "sudo wget https://bitbucket.org/ariya/phantomjs/downloads/phantomjs-2.1.1-linux-x86_64.tar.bz2\n",
    "\n",
    "# Extract the file\n",
    "sudo tar xvjf phantomjs-2.1.1-linux-x86_64.tar.bz2 -C /usr/local/share/\n",
    "\n",
    "# Create symlink\n",
    "sudo ln -s /usr/local/share/phantomjs-2.1.1-linux-x86_64/bin/phantomjs /usr/local/bin/\n",
    "\n",
    "# Verify install\n",
    "phantomjs --version\n",
    "\n",
    "```\n",
    "\n",
    "And finally, a simple install of Insomnia, a REST client that will make a request to an API:\n",
    "\n",
    "```bash\n",
    "sudo snap install insomnia\n",
    "```\n",
    "\n"
   ]
  }
 ],
 "metadata": {
  "anaconda-cloud": {},
  "kernelspec": {
   "display_name": "Python 3",
   "language": "python",
   "name": "python3"
  },
  "language_info": {
   "codemirror_mode": {
    "name": "ipython",
    "version": 3
   },
   "file_extension": ".py",
   "mimetype": "text/x-python",
   "name": "python",
   "nbconvert_exporter": "python",
   "pygments_lexer": "ipython3",
   "version": "3.6.8"
  }
 },
 "nbformat": 4,
 "nbformat_minor": 1
}
