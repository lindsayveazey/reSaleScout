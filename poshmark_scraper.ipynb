{
 "cells": [
  {
   "cell_type": "markdown",
   "metadata": {},
   "source": [
    "*A document in progress showing my scraper development.*"
   ]
  },
  {
   "cell_type": "markdown",
   "metadata": {},
   "source": [
    "### Import modules\n",
    "*(Always do this step before running any other code chunks)*"
   ]
  },
  {
   "cell_type": "code",
   "execution_count": 1,
   "metadata": {},
   "outputs": [],
   "source": [
    "import urllib.request\n",
    "from urllib.request import urlopen\n",
    "from bs4 import BeautifulSoup\n",
    "import certifi\n",
    "import urllib3\n",
    "import pandas as pd \n",
    "import requests\n",
    "from requests.adapters import HTTPAdapter\n",
    "from requests.packages.urllib3.util.retry import Retry"
   ]
  },
  {
   "cell_type": "markdown",
   "metadata": {},
   "source": [
    "## All listings (brand = lululemon)\n",
    "\n",
    "Here, I specify the URL for **sold/completed** listings of **lululemon** brand clothing. (It's all in the link). Reminder to check the [robot.txt](https://poshmark.com/robots.txt) for the site you want to scrape- don't get blocked as a bot!\n",
    "\n",
    "I'm also identifying the page for BeautifulSoup."
   ]
  },
  {
   "cell_type": "code",
   "execution_count": 2,
   "metadata": {},
   "outputs": [],
   "source": [
    "urlpage = 'https://poshmark.com/brand/lululemon_athletica-Women?availability=sold_out'\n",
    "\n",
    "http = urllib3.PoolManager(cert_reqs='CERT_REQUIRED', ca_certs=certifi.where())\n",
    "r = http.request('GET', urlpage)\n",
    "page = urllib.request.urlopen(urlpage).read()\n",
    "soup = BeautifulSoup(page, 'html.parser')\n",
    "# print(page)"
   ]
  },
  {
   "cell_type": "markdown",
   "metadata": {},
   "source": [
    "I'm using the chunk below for testing snippets of code- ignore or use it as a scratchpad."
   ]
  },
  {
   "cell_type": "code",
   "execution_count": 51,
   "metadata": {},
   "outputs": [
    {
     "data": {
      "text/plain": [
       "48"
      ]
     },
     "execution_count": 51,
     "metadata": {},
     "output_type": "execute_result"
    }
   ],
   "source": [
    "# For testing\n",
    "item_containers = soup.find_all('div', {'class': 'tile'})\n",
    "#print(len(item_containers)) # should be about 4 dozen\n",
    "#item_containers[0]\n"
   ]
  },
  {
   "cell_type": "markdown",
   "metadata": {},
   "source": [
    "### Running the scraper\n",
    "On this site, there are 48 listings per page. We are starting to scrape at page 1; I want to scrape 300 pages to start, and see how that does. I'm retrieving 1) title/item details in a messy HTML chunk, to be cleaned later; 2) price."
   ]
  },
  {
   "cell_type": "code",
   "execution_count": 53,
   "metadata": {},
   "outputs": [
    {
     "name": "stdout",
     "output_type": "stream",
     "text": [
      "2304\n",
      "2304\n"
     ]
    }
   ],
   "source": [
    "page_num = 1\n",
    "\n",
    "# Create lists to store the scraped information\n",
    "summary = []\n",
    "price = []\n",
    "size = []\n",
    "\n",
    "while page_num<=48: # I checked- 48 pages, 48 items per page\n",
    "    html = requests.get(urlpage.format(page_num)).text\n",
    "    soup = BeautifulSoup(html, 'html.parser')\n",
    "    \n",
    "    for d in soup.findAll(\"div\",{\"class\":\"tile\"}):\n",
    "        title = d.a.get(\"title\")\n",
    "        pr = d.get(\"data-post-price\")\n",
    "        si = d.get(\"data-post-size\")\n",
    "    \n",
    "        summary.append(title)\n",
    "        price.append(pr)\n",
    "        size.append(si)\n",
    "     \n",
    "    page_num=page_num+1\n",
    "\n",
    "# Check the results\n",
    "print(len(summary))\n",
    "print(len(price))"
   ]
  },
  {
   "cell_type": "markdown",
   "metadata": {},
   "source": [
    "### Storing the data in a pandas dataframe"
   ]
  },
  {
   "cell_type": "code",
   "execution_count": 54,
   "metadata": {},
   "outputs": [
    {
     "name": "stdout",
     "output_type": "stream",
     "text": [
      "<class 'pandas.core.frame.DataFrame'>\n",
      "RangeIndex: 2304 entries, 0 to 2303\n",
      "Data columns (total 3 columns):\n",
      "Summary    2304 non-null object\n",
      "Price      2304 non-null object\n",
      "Size       2304 non-null object\n",
      "dtypes: object(3)\n",
      "memory usage: 54.1+ KB\n",
      "None\n"
     ]
    },
    {
     "data": {
      "text/html": [
       "<div>\n",
       "<style scoped>\n",
       "    .dataframe tbody tr th:only-of-type {\n",
       "        vertical-align: middle;\n",
       "    }\n",
       "\n",
       "    .dataframe tbody tr th {\n",
       "        vertical-align: top;\n",
       "    }\n",
       "\n",
       "    .dataframe thead th {\n",
       "        text-align: right;\n",
       "    }\n",
       "</style>\n",
       "<table border=\"1\" class=\"dataframe\">\n",
       "  <thead>\n",
       "    <tr style=\"text-align: right;\">\n",
       "      <th></th>\n",
       "      <th>Summary</th>\n",
       "      <th>Price</th>\n",
       "      <th>Size</th>\n",
       "    </tr>\n",
       "  </thead>\n",
       "  <tbody>\n",
       "    <tr>\n",
       "      <th>0</th>\n",
       "      <td>Lululemon pace rival crop 22”</td>\n",
       "      <td>$60</td>\n",
       "      <td>6</td>\n",
       "    </tr>\n",
       "    <tr>\n",
       "      <th>1</th>\n",
       "      <td>lulu lemon backpack</td>\n",
       "      <td>$20</td>\n",
       "      <td>OS</td>\n",
       "    </tr>\n",
       "    <tr>\n",
       "      <th>2</th>\n",
       "      <td>Lululemon Scuba Sparkle III Lavender Hoodie</td>\n",
       "      <td>$10</td>\n",
       "      <td>4</td>\n",
       "    </tr>\n",
       "    <tr>\n",
       "      <th>3</th>\n",
       "      <td>Maroon lululemon shorts</td>\n",
       "      <td>$32</td>\n",
       "      <td>6</td>\n",
       "    </tr>\n",
       "    <tr>\n",
       "      <th>4</th>\n",
       "      <td>Lululemon sports bra</td>\n",
       "      <td>$15</td>\n",
       "      <td>6</td>\n",
       "    </tr>\n",
       "  </tbody>\n",
       "</table>\n",
       "</div>"
      ],
      "text/plain": [
       "                                       Summary Price Size\n",
       "0                Lululemon pace rival crop 22”   $60    6\n",
       "1                          lulu lemon backpack   $20   OS\n",
       "2  Lululemon Scuba Sparkle III Lavender Hoodie   $10    4\n",
       "3                      Maroon lululemon shorts   $32    6\n",
       "4                         Lululemon sports bra   $15    6"
      ]
     },
     "execution_count": 54,
     "metadata": {},
     "output_type": "execute_result"
    }
   ],
   "source": [
    "pm_lululemon_df = pd.DataFrame({'Summary': summary, 'Price': price, 'Size': size})\n",
    "print(pm_lululemon_df.info())\n",
    "pm_lululemon_df.head()"
   ]
  },
  {
   "cell_type": "markdown",
   "metadata": {},
   "source": [
    "## All listings (brand = Reformation)"
   ]
  },
  {
   "cell_type": "markdown",
   "metadata": {},
   "source": [
    "In this instance, I am applying the scraper to retrieve **sold/completed** listings of **Reformation** brand clothing. "
   ]
  },
  {
   "cell_type": "code",
   "execution_count": 56,
   "metadata": {},
   "outputs": [],
   "source": [
    "urlpage = 'https://poshmark.com/search?brand%5B%5D=Reformation&department=All'\n",
    "\n",
    "http = urllib3.PoolManager(cert_reqs='CERT_REQUIRED', ca_certs=certifi.where())\n",
    "r = http.request('GET', urlpage)\n",
    "page = urllib.request.urlopen(urlpage).read()\n",
    "soup = BeautifulSoup(page, 'html.parser')"
   ]
  },
  {
   "cell_type": "code",
   "execution_count": 57,
   "metadata": {},
   "outputs": [
    {
     "name": "stdout",
     "output_type": "stream",
     "text": [
      "2304\n",
      "2304\n"
     ]
    }
   ],
   "source": [
    "page_num = 1\n",
    "\n",
    "# Create lists to store the scraped information\n",
    "summary = []\n",
    "price = []\n",
    "size = []\n",
    "\n",
    "while page_num<=48: # I checked- 48 pages, 48 items per page\n",
    "    html = requests.get(urlpage.format(page_num)).text\n",
    "    soup = BeautifulSoup(html, 'html.parser')\n",
    "    \n",
    "    for d in soup.findAll(\"div\",{\"class\":\"tile\"}):\n",
    "        title = d.a.get(\"title\")\n",
    "        pr = d.get(\"data-post-price\")\n",
    "        si = d.get(\"data-post-size\")\n",
    "    \n",
    "        summary.append(title)\n",
    "        price.append(pr)\n",
    "        size.append(si)\n",
    "     \n",
    "    page_num=page_num+1\n",
    "\n",
    "# Check the results\n",
    "print(len(summary))\n",
    "print(len(price))"
   ]
  },
  {
   "cell_type": "code",
   "execution_count": 59,
   "metadata": {},
   "outputs": [
    {
     "name": "stdout",
     "output_type": "stream",
     "text": [
      "<class 'pandas.core.frame.DataFrame'>\n",
      "RangeIndex: 2304 entries, 0 to 2303\n",
      "Data columns (total 3 columns):\n",
      "Summary    2304 non-null object\n",
      "Price      2304 non-null object\n",
      "Size       2304 non-null object\n",
      "dtypes: object(3)\n",
      "memory usage: 54.1+ KB\n",
      "None\n"
     ]
    },
    {
     "data": {
      "text/html": [
       "<div>\n",
       "<style scoped>\n",
       "    .dataframe tbody tr th:only-of-type {\n",
       "        vertical-align: middle;\n",
       "    }\n",
       "\n",
       "    .dataframe tbody tr th {\n",
       "        vertical-align: top;\n",
       "    }\n",
       "\n",
       "    .dataframe thead th {\n",
       "        text-align: right;\n",
       "    }\n",
       "</style>\n",
       "<table border=\"1\" class=\"dataframe\">\n",
       "  <thead>\n",
       "    <tr style=\"text-align: right;\">\n",
       "      <th></th>\n",
       "      <th>Summary</th>\n",
       "      <th>Price</th>\n",
       "      <th>Size</th>\n",
       "    </tr>\n",
       "  </thead>\n",
       "  <tbody>\n",
       "    <tr>\n",
       "      <th>0</th>\n",
       "      <td>Reformation Off-Shoulder Long Sleeve</td>\n",
       "      <td>$30</td>\n",
       "      <td>XS</td>\n",
       "    </tr>\n",
       "    <tr>\n",
       "      <th>1</th>\n",
       "      <td>Reformation Linen Set</td>\n",
       "      <td>$98</td>\n",
       "      <td>XS</td>\n",
       "    </tr>\n",
       "    <tr>\n",
       "      <th>2</th>\n",
       "      <td>NWT Reformation Britta Dress</td>\n",
       "      <td>$180</td>\n",
       "      <td>4</td>\n",
       "    </tr>\n",
       "    <tr>\n",
       "      <th>3</th>\n",
       "      <td>Reformation Gilda Green Jumpsuit</td>\n",
       "      <td>$135</td>\n",
       "      <td>10</td>\n",
       "    </tr>\n",
       "    <tr>\n",
       "      <th>4</th>\n",
       "      <td>REFORMATION serena melbourne destroyed jeans</td>\n",
       "      <td>$61</td>\n",
       "      <td>29</td>\n",
       "    </tr>\n",
       "  </tbody>\n",
       "</table>\n",
       "</div>"
      ],
      "text/plain": [
       "                                        Summary Price Size\n",
       "0          Reformation Off-Shoulder Long Sleeve   $30   XS\n",
       "1                         Reformation Linen Set   $98   XS\n",
       "2                  NWT Reformation Britta Dress  $180    4\n",
       "3              Reformation Gilda Green Jumpsuit  $135   10\n",
       "4  REFORMATION serena melbourne destroyed jeans   $61   29"
      ]
     },
     "execution_count": 59,
     "metadata": {},
     "output_type": "execute_result"
    }
   ],
   "source": [
    "pm_ref_df = pd.DataFrame({'Summary': summary, 'Price': price, 'Size': size})\n",
    "print(pm_ref_df.info())\n",
    "pm_ref_df.head()"
   ]
  },
  {
   "cell_type": "markdown",
   "metadata": {},
   "source": [
    "#### Adding new columns: Brand, Condition, Category"
   ]
  },
  {
   "cell_type": "code",
   "execution_count": 63,
   "metadata": {},
   "outputs": [],
   "source": [
    "pm_lululemon_df['Brand'] = 'lululemon'\n",
    "pm_ref_df['Brand'] = 'Reformation'\n",
    "\n",
    "pm_lululemon_df['Condition'] = ''\n",
    "pm_ref_df['Condition'] = ''\n",
    "\n",
    "pm_lululemon_df['Category'] = ''\n",
    "pm_ref_df['Category'] = ''"
   ]
  },
  {
   "cell_type": "markdown",
   "metadata": {},
   "source": [
    "#### Convert all Summary strings to lowercase"
   ]
  },
  {
   "cell_type": "code",
   "execution_count": 118,
   "metadata": {},
   "outputs": [],
   "source": [
    "pm_ref_df['Summary']= pm_ref_df['Summary'].str.lower()\n",
    "pm_lululemon_df['Summary'] = pm_lululemon_df['Summary'].str.lower()"
   ]
  },
  {
   "cell_type": "markdown",
   "metadata": {},
   "source": [
    "#### Assigning the items to categories based on keywords pulled from the Summary description"
   ]
  },
  {
   "cell_type": "code",
   "execution_count": 137,
   "metadata": {},
   "outputs": [],
   "source": [
    "tops = ['top', 'shirt', 'tee', 'tank']\n",
    "bottoms = ['skirt', 'pants', 'pant', 'short', 'crop', 'crops', 'shorts', 'leggings', 'tights', 'jeans']\n",
    "dresses = ['dress']\n",
    "jumpsuits = ['jumpsuit']\n",
    "bras = ['bra', 'bras']\n",
    "outerwear = ['jacket', 'hoodie', 'sweater', 'sweatshirt', 'rainjacket', 'coat', 'parka', 'turtleneck']\n",
    "accessories = ['headband', 'bag', 'beanie', 'hat', 'toque', 'scarf', 'gloves', 'socks']\n",
    "bag = ['backpack', 'tote', 'duffel']\n",
    "\n",
    "def fun(a):\n",
    "    for i in tops:\n",
    "        if i in a:\n",
    "            return \"tops\"\n",
    "    for j in bottoms:\n",
    "        if j in a:\n",
    "            return \"bottoms\"\n",
    "    for k in bras:\n",
    "        if k in a:\n",
    "            return \"bras\"\n",
    "    for l in dresses:\n",
    "        if l in a:\n",
    "            return \"dresses\"\n",
    "    for m in outerwear:\n",
    "        if m in a:\n",
    "            return \"outerwear\"\n",
    "    for n in accessories:\n",
    "        if n in a:\n",
    "            return \"accessories\"\n",
    "    for o in bag:\n",
    "        if o in a:\n",
    "            return \"bag\"\n",
    "    for p in jumpsuits:\n",
    "        if p in a:\n",
    "            return \"jumpsuits\"\n",
    "    return \"other\"\n",
    "\n",
    "pm_lululemon_df.Category = pm_lululemon_df.Summary.apply(lambda x: fun(x))\n",
    "pm_ref_df.Category = pm_ref_df.Summary.apply(lambda x: fun(x))\n",
    "\n",
    "#pm_ref_df.tail(20)"
   ]
  },
  {
   "cell_type": "markdown",
   "metadata": {},
   "source": [
    "#### Assign condition"
   ]
  },
  {
   "cell_type": "code",
   "execution_count": 141,
   "metadata": {},
   "outputs": [],
   "source": [
    "New = ['new', 'nwt', 'nwot', 'never']\n",
    "\n",
    "def fun(b):\n",
    "    for i in New:\n",
    "        if i in b:\n",
    "            return \"New\"\n",
    "    return \"PreOwned\"\n",
    "\n",
    "pm_lululemon_df.Condition = pm_lululemon_df.Summary.apply(lambda x: fun(x))\n",
    "pm_ref_df.Condition = pm_ref_df.Summary.apply(lambda x: fun(x))\n",
    "\n",
    "#pm_lululemon_df.head(10)"
   ]
  },
  {
   "cell_type": "markdown",
   "metadata": {},
   "source": [
    "#### Strip dollar sign from Price"
   ]
  },
  {
   "cell_type": "code",
   "execution_count": 148,
   "metadata": {},
   "outputs": [
    {
     "data": {
      "text/html": [
       "<div>\n",
       "<style scoped>\n",
       "    .dataframe tbody tr th:only-of-type {\n",
       "        vertical-align: middle;\n",
       "    }\n",
       "\n",
       "    .dataframe tbody tr th {\n",
       "        vertical-align: top;\n",
       "    }\n",
       "\n",
       "    .dataframe thead th {\n",
       "        text-align: right;\n",
       "    }\n",
       "</style>\n",
       "<table border=\"1\" class=\"dataframe\">\n",
       "  <thead>\n",
       "    <tr style=\"text-align: right;\">\n",
       "      <th></th>\n",
       "      <th>Summary</th>\n",
       "      <th>Price</th>\n",
       "      <th>Size</th>\n",
       "      <th>Brand</th>\n",
       "      <th>Condition</th>\n",
       "      <th>Category</th>\n",
       "    </tr>\n",
       "  </thead>\n",
       "  <tbody>\n",
       "    <tr>\n",
       "      <th>0</th>\n",
       "      <td>lululemon pace rival crop 22”</td>\n",
       "      <td>60</td>\n",
       "      <td>6</td>\n",
       "      <td>lululemon</td>\n",
       "      <td>PreOwned</td>\n",
       "      <td>bottoms</td>\n",
       "    </tr>\n",
       "    <tr>\n",
       "      <th>1</th>\n",
       "      <td>lulu lemon backpack</td>\n",
       "      <td>20</td>\n",
       "      <td>OS</td>\n",
       "      <td>lululemon</td>\n",
       "      <td>PreOwned</td>\n",
       "      <td>bag</td>\n",
       "    </tr>\n",
       "    <tr>\n",
       "      <th>2</th>\n",
       "      <td>lululemon scuba sparkle iii lavender hoodie</td>\n",
       "      <td>10</td>\n",
       "      <td>4</td>\n",
       "      <td>lululemon</td>\n",
       "      <td>PreOwned</td>\n",
       "      <td>outerwear</td>\n",
       "    </tr>\n",
       "    <tr>\n",
       "      <th>3</th>\n",
       "      <td>maroon lululemon shorts</td>\n",
       "      <td>32</td>\n",
       "      <td>6</td>\n",
       "      <td>lululemon</td>\n",
       "      <td>PreOwned</td>\n",
       "      <td>bottoms</td>\n",
       "    </tr>\n",
       "    <tr>\n",
       "      <th>4</th>\n",
       "      <td>lululemon sports bra</td>\n",
       "      <td>15</td>\n",
       "      <td>6</td>\n",
       "      <td>lululemon</td>\n",
       "      <td>PreOwned</td>\n",
       "      <td>bras</td>\n",
       "    </tr>\n",
       "  </tbody>\n",
       "</table>\n",
       "</div>"
      ],
      "text/plain": [
       "                                       Summary  Price Size      Brand  \\\n",
       "0                lululemon pace rival crop 22”     60    6  lululemon   \n",
       "1                          lulu lemon backpack     20   OS  lululemon   \n",
       "2  lululemon scuba sparkle iii lavender hoodie     10    4  lululemon   \n",
       "3                      maroon lululemon shorts     32    6  lululemon   \n",
       "4                         lululemon sports bra     15    6  lululemon   \n",
       "\n",
       "  Condition   Category  \n",
       "0  PreOwned    bottoms  \n",
       "1  PreOwned        bag  \n",
       "2  PreOwned  outerwear  \n",
       "3  PreOwned    bottoms  \n",
       "4  PreOwned       bras  "
      ]
     },
     "execution_count": 148,
     "metadata": {},
     "output_type": "execute_result"
    }
   ],
   "source": [
    "pm_lululemon_df['Price'] = pm_lululemon_df['Price'].str.replace('$', '')\n",
    "pm_lululemon_df['Price'] = pm_lululemon_df['Price'].astype(int)\n",
    "pm_ref_df['Price'] = pm_ref_df['Price'].str.replace('$', '')\n",
    "pm_ref_df['Price'] = pm_ref_df['Price'].astype(int)"
   ]
  },
  {
   "cell_type": "markdown",
   "metadata": {},
   "source": [
    "#### Finally, add a Site column and save as CSV for now"
   ]
  },
  {
   "cell_type": "code",
   "execution_count": 149,
   "metadata": {},
   "outputs": [],
   "source": [
    "pm_lululemon_df['Site'] = 'Poshmark'\n",
    "pm_ref_df['Site'] = 'Poshmark'\n",
    "\n",
    "pd.DataFrame.to_csv(pm_lululemon_df, 'pm_lululemon_df.csv') # Can also save to .json\n",
    "pd.DataFrame.to_csv(pm_ref_df, 'pm_ref_df.csv')"
   ]
  }
 ],
 "metadata": {
  "kernelspec": {
   "display_name": "Python 3",
   "language": "python",
   "name": "python3"
  },
  "language_info": {
   "codemirror_mode": {
    "name": "ipython",
    "version": 3
   },
   "file_extension": ".py",
   "mimetype": "text/x-python",
   "name": "python",
   "nbconvert_exporter": "python",
   "pygments_lexer": "ipython3",
   "version": "3.6.8"
  }
 },
 "nbformat": 4,
 "nbformat_minor": 2
}
