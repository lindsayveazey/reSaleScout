{
 "cells": [
  {
   "cell_type": "markdown",
   "metadata": {},
   "source": [
    "*A document in progress showing my scraper development.*"
   ]
  },
  {
   "cell_type": "markdown",
   "metadata": {},
   "source": [
    "### Import modules\n",
    "*(Always do this step before running any other code chunks)*"
   ]
  },
  {
   "cell_type": "code",
   "execution_count": 1,
   "metadata": {},
   "outputs": [],
   "source": [
    "import urllib.request\n",
    "from urllib.request import urlopen\n",
    "from bs4 import BeautifulSoup\n",
    "import certifi\n",
    "import urllib3\n",
    "import pandas as pd \n",
    "import requests\n",
    "from requests.adapters import HTTPAdapter\n",
    "from requests.packages.urllib3.util.retry import Retry"
   ]
  },
  {
   "cell_type": "markdown",
   "metadata": {},
   "source": [
    "## All listings (brands = lululemon, Reformation, Sezane, Doen, Realisation Par, Iro, Ulla Johnson, Zimmermann, The Row, Rouje)\n",
    "\n",
    "Here, I specify the URL for **sold/completed** listings of 10 brands of women's clothing. Reminder to check the [robot.txt](https://poshmark.com/robots.txt) for the site you want to scrape- don't get blocked as a bot!\n",
    "\n",
    "I'm also identifying the page for BeautifulSoup."
   ]
  },
  {
   "cell_type": "markdown",
   "metadata": {},
   "source": [
    "#### Change the object below to correspond to the brand page I want to scrape..."
   ]
  },
  {
   "cell_type": "code",
   "execution_count": 46,
   "metadata": {},
   "outputs": [],
   "source": [
    "#brand = 'lululemon'\n",
    "#brand = 'reformation'\n",
    "#brand = 'sezane'\n",
    "#brand = 'doen'\n",
    "#brand = 'realisation_par'\n",
    "#brand = 'iro'\n",
    "#brand = 'ulla_johnson'\n",
    "#brand = 'zimmermann'\n",
    "#brand = 'the_row'\n",
    "brand = 'rouje'"
   ]
  },
  {
   "cell_type": "code",
   "execution_count": 47,
   "metadata": {},
   "outputs": [
    {
     "name": "stdout",
     "output_type": "stream",
     "text": [
      "https://poshmark.com/brand/rouje-Women?availability=sold_out\n"
     ]
    }
   ],
   "source": [
    "urlpage = 'https://poshmark.com/brand/' +str(brand) +'-Women?availability=sold_out'\n",
    "print(urlpage)"
   ]
  },
  {
   "cell_type": "code",
   "execution_count": 48,
   "metadata": {},
   "outputs": [],
   "source": [
    "http = urllib3.PoolManager(cert_reqs='CERT_REQUIRED', ca_certs=certifi.where())\n",
    "r = http.request('GET', urlpage)\n",
    "page = urllib.request.urlopen(urlpage).read()\n",
    "soup = BeautifulSoup(page, 'html.parser')\n",
    "# print(page)"
   ]
  },
  {
   "cell_type": "code",
   "execution_count": 49,
   "metadata": {},
   "outputs": [
    {
     "name": "stdout",
     "output_type": "stream",
     "text": [
      "48\n"
     ]
    }
   ],
   "source": [
    "item_containers = soup.find_all('div', {'class': 'tile'})\n",
    "print(len(item_containers)) # should be about 4 dozen\n",
    "#item_containers[0]"
   ]
  },
  {
   "cell_type": "markdown",
   "metadata": {},
   "source": [
    "### Running the scraper\n",
    "On this site, there are 48 listings per page. We are starting to scrape at page 1; I'm retrieving 1) title/item details in a messy HTML chunk, to be cleaned later; 2) price."
   ]
  },
  {
   "cell_type": "code",
   "execution_count": 50,
   "metadata": {},
   "outputs": [
    {
     "name": "stdout",
     "output_type": "stream",
     "text": [
      "2304\n",
      "2304\n"
     ]
    }
   ],
   "source": [
    "page_num = 1\n",
    "\n",
    "# Create lists to store the scraped information\n",
    "summary = []\n",
    "price = []\n",
    "size = []\n",
    "\n",
    "while page_num<=48: # I checked- 48 pages, 48 items per page\n",
    "    html = requests.get(urlpage.format(page_num)).text\n",
    "    soup = BeautifulSoup(html, 'html.parser')\n",
    "    \n",
    "    for d in soup.findAll(\"div\",{\"class\":\"tile\"}):\n",
    "        title = d.a.get(\"title\")\n",
    "        pr = d.get(\"data-post-price\")\n",
    "        si = d.get(\"data-post-size\")\n",
    "    \n",
    "        summary.append(title)\n",
    "        price.append(pr)\n",
    "        size.append(si)\n",
    "     \n",
    "    page_num=page_num+1\n",
    "\n",
    "# Check the results\n",
    "print(len(summary))\n",
    "print(len(price))"
   ]
  },
  {
   "cell_type": "markdown",
   "metadata": {},
   "source": [
    "### Storing the data in a pandas dataframe\n",
    "\n",
    "Change the text below to correspond to the brand I just scraped. Note that I'm using all lowercase to simplify PostgreSQL ingestion (it *does not like* Capital Letters)."
   ]
  },
  {
   "cell_type": "code",
   "execution_count": 51,
   "metadata": {},
   "outputs": [
    {
     "name": "stdout",
     "output_type": "stream",
     "text": [
      "<class 'pandas.core.frame.DataFrame'>\n",
      "RangeIndex: 2304 entries, 0 to 2303\n",
      "Data columns (total 3 columns):\n",
      "summary    2304 non-null object\n",
      "price      2304 non-null object\n",
      "size       2304 non-null object\n",
      "dtypes: object(3)\n",
      "memory usage: 54.1+ KB\n",
      "None\n"
     ]
    },
    {
     "data": {
      "text/html": [
       "<div>\n",
       "<style scoped>\n",
       "    .dataframe tbody tr th:only-of-type {\n",
       "        vertical-align: middle;\n",
       "    }\n",
       "\n",
       "    .dataframe tbody tr th {\n",
       "        vertical-align: top;\n",
       "    }\n",
       "\n",
       "    .dataframe thead th {\n",
       "        text-align: right;\n",
       "    }\n",
       "</style>\n",
       "<table border=\"1\" class=\"dataframe\">\n",
       "  <thead>\n",
       "    <tr style=\"text-align: right;\">\n",
       "      <th></th>\n",
       "      <th>summary</th>\n",
       "      <th>price</th>\n",
       "      <th>size</th>\n",
       "    </tr>\n",
       "  </thead>\n",
       "  <tbody>\n",
       "    <tr>\n",
       "      <td>0</td>\n",
       "      <td>NWOT Rouje gabin dress red</td>\n",
       "      <td>$150</td>\n",
       "      <td>S</td>\n",
       "    </tr>\n",
       "    <tr>\n",
       "      <td>1</td>\n",
       "      <td>Rouje dress</td>\n",
       "      <td>$71</td>\n",
       "      <td>00</td>\n",
       "    </tr>\n",
       "    <tr>\n",
       "      <td>2</td>\n",
       "      <td>NWOT rouje gabin dress navy</td>\n",
       "      <td>$120</td>\n",
       "      <td>S</td>\n",
       "    </tr>\n",
       "    <tr>\n",
       "      <td>3</td>\n",
       "      <td>Round Gabin Dress</td>\n",
       "      <td>$175</td>\n",
       "      <td>French 36/US 4</td>\n",
       "    </tr>\n",
       "    <tr>\n",
       "      <td>4</td>\n",
       "      <td>Red “Elisa” Rouje Blouse</td>\n",
       "      <td>$50</td>\n",
       "      <td>2</td>\n",
       "    </tr>\n",
       "  </tbody>\n",
       "</table>\n",
       "</div>"
      ],
      "text/plain": [
       "                       summary price            size\n",
       "0   NWOT Rouje gabin dress red  $150               S\n",
       "1                  Rouje dress   $71              00\n",
       "2  NWOT rouje gabin dress navy  $120               S\n",
       "3            Round Gabin Dress  $175  French 36/US 4\n",
       "4     Red “Elisa” Rouje Blouse   $50               2"
      ]
     },
     "execution_count": 51,
     "metadata": {},
     "output_type": "execute_result"
    }
   ],
   "source": [
    "pm_rouje_df = pd.DataFrame({'summary': summary, 'price': price, 'size': size})\n",
    "print(pm_rouje_df.info())\n",
    "pm_rouje_df.head()"
   ]
  },
  {
   "cell_type": "markdown",
   "metadata": {},
   "source": [
    "## Cleaning the data\n",
    "Here is a list of my dfs (lululemon and Reformation brands were part of the proof-of-concept for this scraper, so lines of code corresponding to those brands are commented out)."
   ]
  },
  {
   "cell_type": "code",
   "execution_count": null,
   "metadata": {},
   "outputs": [],
   "source": [
    "'''\n",
    "#print(pm_lulu_df.head())\n",
    "#print(pm_ref_df.head())\n",
    "print(pm_sezane_df.head())\n",
    "print(pm_doen_df.head())\n",
    "print(pm_realisationpar_df.head())\n",
    "print(pm_iro_df.head())\n",
    "print(pm_ullajohnson_df.head())\n",
    "print(pm_zimmermann_df.head())\n",
    "print(pm_therow_df.head())\n",
    "print(pm_rouje_df.head())\n",
    "\n",
    "'''"
   ]
  },
  {
   "cell_type": "code",
   "execution_count": 121,
   "metadata": {},
   "outputs": [
    {
     "name": "stdout",
     "output_type": "stream",
     "text": [
      "<class 'pandas.core.frame.DataFrame'>\n",
      "RangeIndex: 2304 entries, 0 to 2303\n",
      "Data columns (total 7 columns):\n",
      "summary      2304 non-null object\n",
      "price        2304 non-null int64\n",
      "size         2304 non-null object\n",
      "brand        2304 non-null object\n",
      "condition    2304 non-null object\n",
      "category     2304 non-null object\n",
      "site         2304 non-null object\n",
      "dtypes: int64(1), object(6)\n",
      "memory usage: 126.1+ KB\n",
      "None\n"
     ]
    }
   ],
   "source": [
    "print(pm_sezane_df.info())"
   ]
  },
  {
   "cell_type": "markdown",
   "metadata": {},
   "source": [
    "### Adding new columns: brand, condition, category"
   ]
  },
  {
   "cell_type": "code",
   "execution_count": 64,
   "metadata": {},
   "outputs": [],
   "source": [
    "#pm_lululemon_df['brand'] = 'lululemon'\n",
    "#pm_ref_df['brand'] = 'reformation'\n",
    "pm_sezane_df['brand'] = 'sezane'\n",
    "pm_doen_df['brand'] = 'doen'\n",
    "pm_realisationpar_df['brand'] = 'realisationpar'\n",
    "pm_iro_df['brand'] = 'iro'\n",
    "pm_ullajohnson_df['brand'] = 'ullajohnson'\n",
    "pm_zimmermann_df['brand'] = 'zimmermann'\n",
    "pm_therow_df['brand'] = 'therow'\n",
    "pm_rouje_df['brand'] = 'rouje'\n",
    "\n",
    "\n",
    "#pm_lululemon_df['condition'] = ''\n",
    "#pm_ref_df['condition'] = ''\n",
    "pm_sezane_df['condition'] = ''\n",
    "pm_doen_df['condition'] = ''\n",
    "pm_realisationpar_df['condition'] = ''\n",
    "pm_iro_df['condition'] = ''\n",
    "pm_ullajohnson_df['condition'] = ''\n",
    "pm_zimmermann_df['condition'] = ''\n",
    "pm_therow_df['condition'] = ''\n",
    "pm_rouje_df['condition'] = ''\n",
    "\n",
    "\n",
    "#pm_lululemon_df['category'] = ''\n",
    "#pm_ref_df['category'] = ''\n",
    "pm_sezane_df['category'] = ''\n",
    "pm_doen_df['category'] = ''\n",
    "pm_realisationpar_df['category'] = ''\n",
    "pm_iro_df['category'] = ''\n",
    "pm_ullajohnson_df['category'] = ''\n",
    "pm_zimmermann_df['category'] = ''\n",
    "pm_therow_df['category'] = ''\n",
    "pm_rouje_df['category'] = ''"
   ]
  },
  {
   "cell_type": "markdown",
   "metadata": {},
   "source": [
    "#### Convert all 'summary' strings to lowercase"
   ]
  },
  {
   "cell_type": "code",
   "execution_count": 65,
   "metadata": {},
   "outputs": [],
   "source": [
    "#pm_ref_df['summary']= pm_ref_df['summary'].str.lower()\n",
    "#pm_lululemon_df['summary'] = pm_lululemon_df['summary'].str.lower()\n",
    "pm_sezane_df['summary'] = pm_sezane_df['summary'].str.lower()\n",
    "pm_doen_df['summary'] = pm_doen_df['summary'].str.lower()\n",
    "pm_realisationpar_df['summary'] = pm_realisationpar_df['summary'].str.lower()\n",
    "pm_iro_df['summary'] = pm_iro_df['summary'].str.lower()\n",
    "pm_ullajohnson_df['summary'] = pm_ullajohnson_df['summary'].str.lower()\n",
    "pm_zimmermann_df['summary'] = pm_zimmermann_df['summary'].str.lower()\n",
    "pm_therow_df['summary'] = pm_therow_df['summary'].str.lower()\n",
    "pm_rouje_df['summary'] = pm_rouje_df['summary'].str.lower()"
   ]
  },
  {
   "cell_type": "markdown",
   "metadata": {},
   "source": [
    "#### Assigning the items to categories based on keywords pulled from the summary description"
   ]
  },
  {
   "cell_type": "code",
   "execution_count": 134,
   "metadata": {},
   "outputs": [],
   "source": [
    "tops = ['top', 'shirt', 'tee', 'tank']\n",
    "bottoms = ['skirt', 'pants', 'pant', 'short', 'crop', 'crops', 'shorts', 'leggings', 'tights', 'jeans']\n",
    "dresses = ['dress']\n",
    "#jumpsuits = ['jumpsuit']\n",
    "bras = ['bra', 'bras']\n",
    "outerwear = ['jacket', 'hoodie', 'sweater', 'sweatshirt', 'rainjacket', 'coat', 'parka', 'turtleneck']\n",
    "#accessories = ['headband', 'bag', 'beanie', 'hat', 'toque', 'scarf', 'gloves', 'socks']\n",
    "#bag = ['backpack', 'tote', 'duffel']\n",
    "\n",
    "def fun(a):\n",
    "    for i in tops:\n",
    "        if i in a:\n",
    "            return \"tops\"\n",
    "    for j in bottoms:\n",
    "        if j in a:\n",
    "            return \"bottoms\"\n",
    "    for k in bras:\n",
    "        if k in a:\n",
    "            return \"bras\"\n",
    "    for l in dresses:\n",
    "        if l in a:\n",
    "            return \"dresses\"\n",
    "    for m in outerwear:\n",
    "        if m in a:\n",
    "            return \"outerwear\"\n",
    "    return \"other\"\n",
    "\n",
    "\n",
    "#pm_lululemon_df.category = pm_lululemon_df.summary.apply(lambda x: fun(x))\n",
    "#pm_ref_df.category = pm_ref_df.summary.apply(lambda x: fun(x))\n",
    "pm_sezane_df.category = pm_sezane_df.summary.apply(lambda x: fun(x))\n",
    "pm_doen_df.category = pm_doen_df.summary.apply(lambda x: fun(x))\n",
    "pm_realisationpar_df.category = pm_realisationpar_df.summary.apply(lambda x: fun(x))\n",
    "pm_iro_df.category = pm_iro_df.summary.apply(lambda x: fun(x))\n",
    "pm_ullajohnson_df.category = pm_ullajohnson_df.summary.apply(lambda x: fun(x))\n",
    "pm_zimmermann_df.category = pm_zimmermann_df.summary.apply(lambda x: fun(x))\n",
    "pm_therow_df.category = pm_therow_df.summary.apply(lambda x: fun(x))\n",
    "pm_rouje_df.category = pm_rouje_df.summary.apply(lambda x: fun(x))"
   ]
  },
  {
   "cell_type": "markdown",
   "metadata": {},
   "source": [
    "#### Assign condition"
   ]
  },
  {
   "cell_type": "code",
   "execution_count": 94,
   "metadata": {},
   "outputs": [],
   "source": [
    "new = ['new', 'nwt', 'nwot', 'never']\n",
    "\n",
    "def fun(b):\n",
    "    for i in new:\n",
    "        if i in b:\n",
    "            return \"new\"\n",
    "    return \"preowned\"\n",
    "\n",
    "#pm_lululemon_df.condition = pm_lululemon_df.summary.apply(lambda x: fun(x))\n",
    "#pm_ref_df.condition = pm_ref_df.summary.apply(lambda x: fun(x))\n",
    "pm_sezane_df.condition = pm_sezane_df.summary.apply(lambda x: fun(x))\n",
    "pm_doen_df.condition = pm_doen_df.summary.apply(lambda x: fun(x))\n",
    "pm_realisationpar_df.condition = pm_realisationpar_df.summary.apply(lambda x: fun(x))\n",
    "pm_iro_df.condition = pm_iro_df.summary.apply(lambda x: fun(x))\n",
    "pm_ullajohnson_df.condition = pm_ullajohnson_df.summary.apply(lambda x: fun(x))\n",
    "pm_zimmermann_df.condition = pm_zimmermann_df.summary.apply(lambda x: fun(x))\n",
    "pm_therow_df.condition = pm_therow_df.summary.apply(lambda x: fun(x))\n",
    "pm_rouje_df.condition = pm_rouje_df.summary.apply(lambda x: fun(x))"
   ]
  },
  {
   "cell_type": "markdown",
   "metadata": {},
   "source": [
    "#### Strip dollar sign from price"
   ]
  },
  {
   "cell_type": "code",
   "execution_count": 89,
   "metadata": {},
   "outputs": [
    {
     "data": {
      "text/plain": [
       "\"\\npm_sezane_df['price'] = pm_sezane_df['price'].str.replace('$', '')\\npm_sezane_df['price'] = pm_sezane_df['price'].astype(int)\\npm_doen_df['price'] = pm_doen_df['price'].str.replace('$', '')\\npm_doen_df['price'] = pm_doen_df['price'].astype(int)\\npm_realisationpar_df['price'] = pm_realisationpar_df['price'].str.replace('$', '')\\npm_realisationpar_df['price'] = pm_realisationpar_df['price'].astype(int)\\npm_iro_df['price'] = pm_iro_df['price'].str.replace('$', '')\\npm_iro_df['price'] = pm_iro_df['price'].astype(int)\\npm_ullajohnson_df['price'] = pm_ullajohnson_df['price'].str.replace('$', '')\\npm_ullajohnson_df['price'] = pm_ullajohnson_df['price'].astype(int)\\npm_zimmermann_df['price'] = pm_zimmermann_df['price'].str.replace('$', '')\\npm_zimmermann_df['price'] = pm_zimmermann_df['price'].astype(int)\\npm_therow_df['price'] = pm_therow_df['price'].str.replace('$', '')\\npm_therow_df['price'] = pm_therow_df['price'].astype(int)\\npm_rouje_df['price'] = pm_rouje_df['price'].str.replace('$', '')\\npm_rouje_df['price'] = pm_rouje_df['price'].astype(int)\\n\""
      ]
     },
     "execution_count": 89,
     "metadata": {},
     "output_type": "execute_result"
    }
   ],
   "source": [
    "#pm_lululemon_df['price'] = pm_lululemon_df['price'].str.replace('$', '')\n",
    "#pm_lululemon_df['price'] = pm_lululemon_df['price'].astype(int)\n",
    "#pm_ref_df['price'] = pm_ref_df['price'].str.replace('$', '')\n",
    "#pm_ref_df['price'] = pm_ref_df['price'].astype(int)\n",
    "\n",
    "pm_sezane_df['price'] = pm_sezane_df['price'].str.replace('$', '')\n",
    "pm_sezane_df['price'] = pm_sezane_df['price'].astype(int)\n",
    "pm_doen_df['price'] = pm_doen_df['price'].str.replace('$', '')\n",
    "pm_doen_df['price'] = pm_doen_df['price'].astype(int)\n",
    "pm_realisationpar_df['price'] = pm_realisationpar_df['price'].str.replace('$', '')\n",
    "pm_realisationpar_df['price'] = pm_realisationpar_df['price'].astype(int)\n",
    "pm_iro_df['price'] = pm_iro_df['price'].str.replace('$', '')\n",
    "pm_iro_df['price'] = pm_iro_df['price'].astype(int)\n",
    "pm_ullajohnson_df['price'] = pm_ullajohnson_df['price'].str.replace('$', '')\n",
    "pm_ullajohnson_df['price'] = pm_ullajohnson_df['price'].astype(int)\n",
    "pm_zimmermann_df['price'] = pm_zimmermann_df['price'].str.replace('$', '')\n",
    "pm_zimmermann_df['price'] = pm_zimmermann_df['price'].astype(int)\n",
    "pm_therow_df['price'] = pm_therow_df['price'].str.replace('$', '')\n",
    "pm_therow_df['price'] = pm_therow_df['price'].astype(int)\n",
    "pm_rouje_df['price'] = pm_rouje_df['price'].str.replace('$', '')\n",
    "pm_rouje_df['price'] = pm_rouje_df['price'].astype(int)"
   ]
  },
  {
   "cell_type": "code",
   "execution_count": 100,
   "metadata": {},
   "outputs": [
    {
     "data": {
      "text/html": [
       "<div>\n",
       "<style scoped>\n",
       "    .dataframe tbody tr th:only-of-type {\n",
       "        vertical-align: middle;\n",
       "    }\n",
       "\n",
       "    .dataframe tbody tr th {\n",
       "        vertical-align: top;\n",
       "    }\n",
       "\n",
       "    .dataframe thead th {\n",
       "        text-align: right;\n",
       "    }\n",
       "</style>\n",
       "<table border=\"1\" class=\"dataframe\">\n",
       "  <thead>\n",
       "    <tr style=\"text-align: right;\">\n",
       "      <th></th>\n",
       "      <th>summary</th>\n",
       "      <th>price</th>\n",
       "      <th>size</th>\n",
       "      <th>brand</th>\n",
       "      <th>condition</th>\n",
       "      <th>category</th>\n",
       "      <th>site</th>\n",
       "    </tr>\n",
       "  </thead>\n",
       "  <tbody>\n",
       "    <tr>\n",
       "      <td>0</td>\n",
       "      <td>nwot rouje gabin dress red</td>\n",
       "      <td>150</td>\n",
       "      <td>S</td>\n",
       "      <td>rouje</td>\n",
       "      <td>new</td>\n",
       "      <td></td>\n",
       "      <td>poshmark</td>\n",
       "    </tr>\n",
       "    <tr>\n",
       "      <td>1</td>\n",
       "      <td>rouje dress</td>\n",
       "      <td>71</td>\n",
       "      <td>00</td>\n",
       "      <td>rouje</td>\n",
       "      <td>preowned</td>\n",
       "      <td></td>\n",
       "      <td>poshmark</td>\n",
       "    </tr>\n",
       "    <tr>\n",
       "      <td>2</td>\n",
       "      <td>nwot rouje gabin dress navy</td>\n",
       "      <td>120</td>\n",
       "      <td>S</td>\n",
       "      <td>rouje</td>\n",
       "      <td>new</td>\n",
       "      <td></td>\n",
       "      <td>poshmark</td>\n",
       "    </tr>\n",
       "    <tr>\n",
       "      <td>3</td>\n",
       "      <td>round gabin dress</td>\n",
       "      <td>175</td>\n",
       "      <td>French 36/US 4</td>\n",
       "      <td>rouje</td>\n",
       "      <td>preowned</td>\n",
       "      <td></td>\n",
       "      <td>poshmark</td>\n",
       "    </tr>\n",
       "    <tr>\n",
       "      <td>4</td>\n",
       "      <td>red “elisa” rouje blouse</td>\n",
       "      <td>50</td>\n",
       "      <td>2</td>\n",
       "      <td>rouje</td>\n",
       "      <td>preowned</td>\n",
       "      <td></td>\n",
       "      <td>poshmark</td>\n",
       "    </tr>\n",
       "  </tbody>\n",
       "</table>\n",
       "</div>"
      ],
      "text/plain": [
       "                       summary  price            size  brand condition  \\\n",
       "0   nwot rouje gabin dress red    150               S  rouje       new   \n",
       "1                  rouje dress     71              00  rouje  preowned   \n",
       "2  nwot rouje gabin dress navy    120               S  rouje       new   \n",
       "3            round gabin dress    175  French 36/US 4  rouje  preowned   \n",
       "4     red “elisa” rouje blouse     50               2  rouje  preowned   \n",
       "\n",
       "  category      site  \n",
       "0           poshmark  \n",
       "1           poshmark  \n",
       "2           poshmark  \n",
       "3           poshmark  \n",
       "4           poshmark  "
      ]
     },
     "execution_count": 100,
     "metadata": {},
     "output_type": "execute_result"
    }
   ],
   "source": [
    "pm_rouje_df.head()"
   ]
  },
  {
   "cell_type": "markdown",
   "metadata": {},
   "source": [
    "#### Finally, add a site column and save as CSV for now"
   ]
  },
  {
   "cell_type": "code",
   "execution_count": 93,
   "metadata": {},
   "outputs": [],
   "source": [
    "#pm_lululemon_df['site'] = 'poshmark'\n",
    "#pm_ref_df['site'] = 'poshmark'\n",
    "pm_sezane_df['site'] = 'poshmark'\n",
    "pm_doen_df['site'] = 'poshmark'\n",
    "pm_realisationpar_df['site'] = 'poshmark'\n",
    "pm_iro_df['site'] = 'poshmark'\n",
    "pm_ullajohnson_df['site'] = 'poshmark'\n",
    "pm_zimmermann_df['site'] = 'poshmark'\n",
    "pm_therow_df['site'] = 'poshmark'\n",
    "pm_rouje_df['site'] = 'poshmark'"
   ]
  },
  {
   "cell_type": "code",
   "execution_count": 155,
   "metadata": {},
   "outputs": [],
   "source": [
    "pd.DataFrame.to_csv(pm_sezane_df, 'pm_sezane_df.csv')\n",
    "pd.DataFrame.to_csv(pm_doen_df, 'pm_doen_df.csv')\n",
    "pd.DataFrame.to_csv(pm_realisationpar_df, 'pm_realisationpar_df.csv')\n",
    "pd.DataFrame.to_csv(pm_iro_df, 'pm_iro_df.csv')\n",
    "pd.DataFrame.to_csv(pm_ullajohnson_df, 'pm_ullajohnson_df.csv')\n",
    "pd.DataFrame.to_csv(pm_zimmermann_df, 'pm_zimmermann_df.csv')\n",
    "pd.DataFrame.to_csv(pm_therow_df, 'pm_therow_df.csv')\n",
    "pd.DataFrame.to_csv(pm_rouje_df, 'pm_rouje_df.csv')"
   ]
  }
 ],
 "metadata": {
  "kernelspec": {
   "display_name": "Python 3",
   "language": "python",
   "name": "python3"
  },
  "language_info": {
   "codemirror_mode": {
    "name": "ipython",
    "version": 3
   },
   "file_extension": ".py",
   "mimetype": "text/x-python",
   "name": "python",
   "nbconvert_exporter": "python",
   "pygments_lexer": "ipython3",
   "version": "3.6.9"
  }
 },
 "nbformat": 4,
 "nbformat_minor": 2
}
